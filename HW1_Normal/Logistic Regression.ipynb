{
 "cells": [
  {
   "cell_type": "markdown",
   "id": "3d940ffc",
   "metadata": {},
   "source": [
    "# Logistic Regression with a Neural Network mindset\n",
    "\n",
    "Welcome to the programming assignment related to Logistic Regression!\n",
    "You will build a logistic regression forecasting model to estimate the temperature of wastewater at the entrance of Wastewater Treatment Plant (WWTP). This assignment will step you through how to do this with a Neural Network mindset, and will also hone your intuitions about deep learning.\n",
    "\n",
    "**Instructions:**\n",
    "- Do not use loops (for/while) in your code, unless the instructions explicitly ask you to do so.\n",
    "- Use `np.dot(X,Y)` to calculate dot products.\n",
    "\n",
    "**You will learn to:**\n",
    "- Build the general architecture of a learning algorithm, including:\n",
    "    - Initializing parameters\n",
    "    - Calculating the cost function and its gradient\n",
    "    - Using an optimization algorithm (gradient descent) \n",
    "- Gather all three functions above into a main model function, in the right order.\n",
    "\n",
    "## Important Note on answering the questions on CANVAS:\n",
    "\n",
    "In order to answer the questions correctly, you only need to write the codes in places which are specified as:\n",
    "```python\n",
    "\n",
    "# YOUR CODE STARTS HERE\n",
    "\n",
    "YOUR CODE\n",
    "\n",
    "# YOUR CODE ENDS HERE\n",
    "```\n",
    "\n",
    "You shouldn't change other lines of code. However, you can always make a copy of the file and investigate other lines."
   ]
  },
  {
   "cell_type": "markdown",
   "id": "dd7f2e42",
   "metadata": {},
   "source": [
    "## Table of Contents\n",
    "- [1 - Packages](#1)\n",
    "- [2 - Overview of the Problem set](#2)\n",
    "- [3 - Normalization](#3)\n",
    "     - [Exercise 1](#ex-1)\n",
    "- [4 - General Architecture of the learning algorithm](#4)\n",
    "- [5 - Building the parts of our algorithm](#5)\n",
    "    - [5.1 - Helper functions](#5-1)\n",
    "        - [Exercise 2 - sigmoid](#ex-2)\n",
    "    - [5.2 - Initializing parameters](#5-2)\n",
    "        - [Exercise 3 - initialize_with_zeros](#ex-3)\n",
    "    - [5.3 - Forward and Backward propagation](#5-3)\n",
    "        - [Exercise 4 - propagate](#ex-4)\n",
    "    - [5.4 - Optimization](#5-4)\n",
    "        - [Exercise 5 - optimize](#ex-5)\n",
    "        - [Exercise 6 - predict](#ex-6)\n",
    "- [6 - Merge all functions into a model](#6)\n",
    "    - [Exercise 7 - model](#ex-7)\n",
    "- [7 - Result analysis](#7)\n",
    "- [8 - References](#8)"
   ]
  },
  {
   "cell_type": "markdown",
   "id": "3cc64376",
   "metadata": {},
   "source": [
    "<a name='1'></a>\n",
    "## 1 - Packages ##\n",
    "\n",
    "First, let's run the cell below to import all the packages that you will need during this assignment. \n",
    "- [numpy](https://numpy.org/doc/1.20/) is the fundamental package for scientific computing with Python.\n",
    "- [pandas](https://www.w3schools.com/python/pandas/pandas_intro.asp#:~:text=What%20is%20Pandas%3F,by%20Wes%20McKinney%20in%202008.) used for working with data sets.\n",
    "- [sklearn](https://scikit-learn.org/stable/modules/preprocessing.html#preprocessing)provides several common utility functions and transformer classes to change raw feature vectors into a representation that is more suitable for the downstream estimators.\n",
    "- [matplotlib](http://matplotlib.org) is a famous library to plot graphs in Python."
   ]
  },
  {
   "cell_type": "code",
   "execution_count": 1,
   "id": "4b3461bb",
   "metadata": {},
   "outputs": [],
   "source": [
    "# Package imports\n",
    "import numpy as np\n",
    "import pandas as pd\n",
    "import copy\n",
    "import matplotlib.pyplot as plt\n",
    "import sklearn\n",
    "import sklearn.datasets\n",
    "import sklearn.linear_model\n",
    "from public_tests import *\n",
    "\n",
    "%matplotlib inline\n",
    "%load_ext autoreload\n",
    "%autoreload 2"
   ]
  },
  {
   "cell_type": "markdown",
   "id": "64ea57e3",
   "metadata": {},
   "source": [
    "<a name='2'></a>\n",
    "## 2 - Overview of the Problem set ##\n",
    "\n",
    "**Problem Statement**: The main problem to be solved is to find the relationship between the temperature of wastewater at the entrance of Wastewater Treatment Plant (WWTP) as output and some input parameters as ambient temperature, buildings effluent temperature, buildings effluent flowrate, storm water flowrate, infilteration flowrate, hour of  day, and hour of year, as can be seen in the following figure.  \n",
    "You are given a dataset (\"Input for ANN_10year​.xlsx\") containing the hourly value of all 8 parameters for years 2009-2018. \n",
    "\n",
    "You will build a forecasting algorithm that can correctly forecast wastewater temperature at the entrance of WWTP for 2019.The forecasted values will be compraed with measured values from \"Input for ANN​.xlsx\"\n",
    "\n",
    "Let's get more familiar with the dataset. Load the data by running the following code.\n",
    "\n",
    "![Inputs and output data](Images/InOut.png)\n"
   ]
  },
  {
   "cell_type": "code",
   "execution_count": 3,
   "id": "9d58aaea",
   "metadata": {},
   "outputs": [],
   "source": [
    "# Loading the data \n",
    "# Loading the data \n",
    "input_data = pd.read_excel(\"Input for ANN_10year.xlsx\")\n",
    "input_data_2019 = pd.read_excel(\"Input for ANN.xlsx\")\n",
    "input_data = input_data.values   # .values converts a pandas dataframe to a numpy array \n",
    "input_data_2019 = input_data_2019.values"
   ]
  },
  {
   "cell_type": "markdown",
   "id": "f1b8dbc6",
   "metadata": {},
   "source": [
    "We should categorize the historical data into inputs (x) and outputs (y) features as well as training set and testing set. \n",
    "\n",
    "All parameters on the left side of previous figure are input parameters and are shown with x. The parameter on the right hand side of the figure, is the output and is shown with y. \n",
    "\n",
    "Data from 2009 to 2018 will be used as training sets. Data for 2019 will be used for testing. \n",
    "\n",
    "Note:\n",
    "We add \"_orig\" at the end of data to show they are original data."
   ]
  },
  {
   "cell_type": "code",
   "execution_count": 4,
   "id": "5dce7151",
   "metadata": {},
   "outputs": [],
   "source": [
    "#Categorizing the data into inputs (x) and outputs (y) as well as training set and testing set\n",
    "train_set_x_orig = input_data[:87600,1:8]\n",
    "test_set_x_orig = input_data_2019[:8760,1:8]\n",
    "train_set_y_orig = input_data[:87600,-1:]\n",
    "test_set_y_orig = input_data_2019[:8760,-1:]"
   ]
  },
  {
   "cell_type": "markdown",
   "id": "ffeb2142",
   "metadata": {},
   "source": [
    "<a name='3'></a>\n",
    "## 3 - Normalization ##\n",
    "\n",
    "**Normalization** is an important step in data science. Normalization refers to the process of scaling data to a standard range, typically between 0 and 1 or -1 and 1. \n",
    "\n",
    "Normalization is important for the following reasons:\n",
    "\n",
    "Improved convergence: Normalizing data helps the optimization algorithm converge faster during the training process. It prevents certain features from dominating the learning process due to their larger scales, leading to more balanced and efficient training.\n",
    "\n",
    "Mitigating numerical instability: Training algorithms like Logistic Regression can be sensitive to the scale of input features. Large differences in scale can cause numerical instability and difficulties in optimization. \n",
    "\n",
    "Generalization: Normalization helps the network generalize well to unseen data. When the data is normalized, the network becomes less sensitive to variations in absolute values and focuses on learning meaningful patterns and relationships in the data.\n",
    "\n",
    "There are different types of normalization techniques, such as min-max normalization, z-score normalization, and feature scaling. The specific choice of normalization technique depends on the characteristics of the data and the requirements of the architecture. You can find more detailed info [here](https://medium.com/@mkc940/different-normalization-methods-a1be71fe9f1).\n",
    "\n",
    "Python has differnt libraries for normalization. In this course, we use [MinMaxScaler](https://scikit-learn.org/stable/modules/generated/sklearn.preprocessing.MinMaxScaler.html) from liberary sklearn.preprocessing."
   ]
  },
  {
   "cell_type": "code",
   "execution_count": 5,
   "id": "5eabd634",
   "metadata": {},
   "outputs": [],
   "source": [
    "#Normalization process\n",
    "from sklearn.preprocessing import MinMaxScaler\n",
    "scaler = MinMaxScaler(feature_range=(0,1))\n",
    "train_set_x_normalized = scaler.fit_transform(train_set_x_orig)\n",
    "test_set_x_normalized = scaler.fit_transform(test_set_x_orig)\n",
    "train_set_y_normalized = scaler.fit_transform(train_set_y_orig)\n",
    "test_set_y_normalized = scaler.fit_transform(test_set_y_orig)\n",
    "\n",
    "#Transpose the data to put all features in the rows and all samples in the columns\n",
    "train_set_x_normalized = train_set_x_normalized.T     # .T Transpose a numpy array  \n",
    "test_set_x_normalized = test_set_x_normalized.T\n",
    "train_set_y_normalized = train_set_y_normalized.T\n",
    "test_set_y_normalized = test_set_y_normalized.T\n"
   ]
  },
  {
   "cell_type": "markdown",
   "id": "6400f0ce",
   "metadata": {},
   "source": [
    "<a name='ex-1'></a>\n",
    "### Exercise 1\n",
    "Find the values for:\n",
    "    - m_train (number of training examples)\n",
    "    - m_test (number of test examples)\n",
    "For instance, you can access `m_train` by writing `train_set_x_orig.shape[0]`."
   ]
  },
  {
   "cell_type": "code",
   "execution_count": 6,
   "id": "80e7360a",
   "metadata": {},
   "outputs": [
    {
     "name": "stdout",
     "output_type": "stream",
     "text": [
      "Number of training examples: m_train = 87600\n",
      "Number of testing examples: m_test = 8760\n",
      "train_set_x shape: (7, 87600)\n",
      "train_set_y shape: (1, 87600)\n",
      "test_set_x shape: (7, 8760)\n",
      "test_set_y shape: (1, 8760)\n"
     ]
    }
   ],
   "source": [
    "#(≈ 2 lines of code)\n",
    "# m_train = \n",
    "# m_test =  \n",
    "# YOUR CODE STARTS HERE\n",
    "m_train = train_set_x_orig.shape[0]\n",
    "m_test = test_set_x_orig.shape[0]\n",
    "# YOUR CODE ENDS HERE\n",
    "\n",
    "print (\"Number of training examples: m_train = \" + str(m_train))\n",
    "print (\"Number of testing examples: m_test = \" + str(m_test))\n",
    "print (\"train_set_x shape: \" + str(train_set_x_normalized.shape))\n",
    "print (\"train_set_y shape: \" + str(train_set_y_normalized.shape))\n",
    "print (\"test_set_x shape: \" + str(test_set_x_normalized.shape))\n",
    "print (\"test_set_y shape: \" + str(test_set_y_normalized.shape))"
   ]
  },
  {
   "cell_type": "markdown",
   "id": "5f5f2610",
   "metadata": {},
   "source": [
    "<font color='yellow'>\n",
    "    \n",
    "    \n",
    "**What you need to remember:**\n",
    "\n",
    "Common steps for pre-processing a new dataset are:\n",
    "- Categorize your data into input and output features as well as training and testing sets\n",
    "- \"Standardize\" the data by normalization\n",
    "- Figure out the dimensions and shapes of the problem (m_train, m_test, ...)"
   ]
  },
  {
   "cell_type": "markdown",
   "id": "1f7a1ce7",
   "metadata": {},
   "source": [
    "<a name='4'></a>\n",
    "## 4 - General Architecture of the Learning Algorithm ##\n",
    "\n",
    "It's time to design a simple forecasting algorithm.\n",
    "\n",
    "You will build a Logistic Regression, using a Neural Network mindset. The following Figure explains why **Logistic Regression is actually a very simple Neural Network!**\n",
    "\n",
    "<img src=\"Images/General Architecture.png\" style=\"width:800px;height:400px;\">\n",
    "\n",
    "**Mathematical expression of the algorithm**:\n",
    "\n",
    "For one example $x^{(i)}$:\n",
    "\n",
    "$$\n",
    "z^{(i)} = w^T x^{(i)} + b \\tag{1}\n",
    "$$\n",
    "\n",
    "$$\n",
    "\\hat{y}^{(i)} = a^{(i)} = \\sigma(z^{(i)}) \\tag{2}\n",
    "$$\n",
    "\n",
    "$$\n",
    "\\mathcal{L}(a^{(i)}, y^{(i)}) = - y^{(i)} \\log(a^{(i)}) - (1-y^{(i)}) \\log(1-a^{(i)}) \\tag{3}\n",
    "$$\n",
    "\n",
    "The cost is then computed by summing over all training examples:\n",
    "\n",
    "$$\n",
    "J = \\frac{1}{m} \\sum_{i=1}^m \\mathcal{L}(a^{(i)}, y^{(i)}) \\tag{4}\n",
    "$$\n",
    "\n",
    "**Key steps**:\n",
    "In this exercise, you will carry out the following steps:  \n",
    "- Initialize the parameters of the model  \n",
    "- Learn the parameters for the model by minimizing the cost  \n",
    "- Use the learned parameters to make predictions (on the test set)  \n",
    "- Analyse the results and conclude"
   ]
  },
  {
   "cell_type": "markdown",
   "id": "24f6bb89",
   "metadata": {},
   "source": [
    "<a name='5'></a>\n",
    "## 5 - Building the parts of our algorithm ## \n",
    "\n",
    "The main steps for building a Neural Network are:\n",
    "1. Define the model structure (such as number of input features) \n",
    "2. Initialize the model's parameters\n",
    "3. Loop:\n",
    "    - Calculate current loss (forward propagation)\n",
    "    - Calculate current gradient (backward propagation)\n",
    "    - Update parameters (gradient descent)\n",
    "\n",
    "You often build 1-3 separately and integrate them into one function we call `model()`.\n",
    "\n",
    "<a name='5-1'></a>\n",
    "### 5.1 - Helper functions\n",
    "\n",
    "<a name='ex-2'></a>\n",
    "### Exercise 2 - sigmoid\n",
    "Implement `sigmoid()`. As you've seen in the figure above, you need to compute $sigmoid(z) = \\frac{1}{1 + e^{-z}}$ for $z = w^T x + b$ to make predictions. Use np.exp()."
   ]
  },
  {
   "cell_type": "code",
   "execution_count": 7,
   "id": "9200b88e",
   "metadata": {},
   "outputs": [],
   "source": [
    "# GRADED FUNCTION: sigmoid\n",
    "\n",
    "def sigmoid(z):\n",
    "    \"\"\"\n",
    "    Compute the sigmoid of z\n",
    "\n",
    "    Arguments:\n",
    "    z -- A scalar or numpy array of any size.\n",
    "\n",
    "    Return:\n",
    "    s -- sigmoid(z)\n",
    "    \"\"\"\n",
    "    \n",
    "    #(≈ 1 line of code)\n",
    "    # s = ...\n",
    "    # YOUR CODE STARTS HERE\n",
    "    s = 1/(1+np.exp(-z))\n",
    "    # YOUR CODE ENDS HERE\n",
    "    \n",
    "    return s"
   ]
  },
  {
   "cell_type": "code",
   "execution_count": 8,
   "id": "b9cb80ba",
   "metadata": {
    "editable": false
   },
   "outputs": [
    {
     "name": "stdout",
     "output_type": "stream",
     "text": [
      "sigmoid([0,2]) = [0.5        0.88079708]\n"
     ]
    }
   ],
   "source": [
    "print (\"sigmoid([0,2]) = \" + str(sigmoid(np.array([0,2]))))"
   ]
  },
  {
   "cell_type": "markdown",
   "id": "8d7bfbe0",
   "metadata": {},
   "source": [
    "<a name='5-2'></a>\n",
    "### 5.2 - Initializing parameters\n",
    "\n",
    "<a name='ex-3'></a>\n",
    "### Exercise 3 - initialize_with_zeros\n",
    "Implement parameter initialization in the cell below. You have to initialize w as a vector of zeros. If you don't know what numpy function to use, look up np.zeros() in the Numpy library's documentation."
   ]
  },
  {
   "cell_type": "code",
   "execution_count": 13,
   "id": "d1de459d",
   "metadata": {},
   "outputs": [],
   "source": [
    "# GRADED FUNCTION: initialize_with_zeros\n",
    "\n",
    "def initialize_with_zeros(dim):\n",
    "    \"\"\"\n",
    "    This function creates a vector of zeros of shape (dim, 1) for w and initializes b to 0.\n",
    "    \n",
    "    Argument:\n",
    "    dim -- size of the w vector we want (or number of parameters in this case)\n",
    "    \n",
    "    Returns:\n",
    "    w -- initialized vector of shape (dim, 1)\n",
    "    b -- initialized scalar (corresponds to the bias) of type float\n",
    "    \"\"\"\n",
    "    \n",
    "    # (≈ 2 lines of code)\n",
    "    # w = ...\n",
    "    # b = ...\n",
    "    # YOUR CODE STARTS HERE\n",
    "    w = np.zeros((dim,1))\n",
    "    b = 0.0\n",
    "    # YOUR CODE ENDS HERE\n",
    "\n",
    "    return w, b"
   ]
  },
  {
   "cell_type": "code",
   "execution_count": 14,
   "id": "84b5980b",
   "metadata": {
    "editable": false
   },
   "outputs": [
    {
     "name": "stdout",
     "output_type": "stream",
     "text": [
      "w = [[0.]\n",
      " [0.]]\n",
      "b = 0.0\n"
     ]
    }
   ],
   "source": [
    "dim = 2\n",
    "w, b = initialize_with_zeros(dim)\n",
    "\n",
    "assert type(b) == float\n",
    "print (\"w = \" + str(w))\n",
    "print (\"b = \" + str(b))"
   ]
  },
  {
   "cell_type": "markdown",
   "id": "df766715",
   "metadata": {},
   "source": [
    "<a name='5-3'></a>\n",
    "### 5.3 - Forward and Backward propagation\n",
    "\n",
    "Now that your parameters are initialized, you can do the \"forward\" and \"backward\" propagation steps for learning the parameters.\n",
    "\n",
    "<a name='ex-4'></a>\n",
    "### Exercise 4 - propagate\n",
    "Implement a function `propagate()` that computes the cost function and its gradient.\n",
    "\n",
    "**Hints**:\n",
    "\n",
    "Forward Propagation:\n",
    "- You get X\n",
    "- You compute $A = \\sigma(w^T X + b) = (a^{(1)}, a^{(2)}, ..., a^{(m-1)}, a^{(m)})$\n",
    "- You calculate the cost function: $J = -\\frac{1}{m}\\sum_{i=1}^{m}(y^{(i)}\\log(a^{(i)})+(1-y^{(i)})\\log(1-a^{(i)}))$\n",
    "\n",
    "Here are the two formulas you will be using: \n",
    "\n",
    "$$ \\frac{\\partial J}{\\partial w} = \\frac{1}{m}X(A-Y)^T\\tag{5}$$\n",
    "$$ \\frac{\\partial J}{\\partial b} = \\frac{1}{m} \\sum_{i=1}^m (a^{(i)}-y^{(i)})\\tag{6}$$"
   ]
  },
  {
   "cell_type": "code",
   "execution_count": 15,
   "id": "b6e0b76a",
   "metadata": {},
   "outputs": [],
   "source": [
    "# GRADED FUNCTION: propagate\n",
    "\n",
    "def propagate(w, b, X, Y):\n",
    "    \"\"\"\n",
    "\n",
    "    Arguments:\n",
    "    w -- weights, a numpy array of size (number of samples, 1)\n",
    "    b -- bias, a scalar\n",
    "    X -- Input data of size (number of samples, number of parameters)\n",
    "    Y -- out put data or Target\n",
    "\n",
    "    Return:\n",
    "    cost -- negative log-likelihood cost for logistic regression\n",
    "    dw -- gradient of the loss with respect to w, thus same shape as w\n",
    "    db -- gradient of the loss with respect to b, thus same shape as b\n",
    "    \n",
    "    Tips:\n",
    "    - Write your code step by step for the propagation. np.log(), np.dot()\n",
    "    \"\"\"\n",
    "    \n",
    "    m = X.shape[1]\n",
    "    \n",
    "    # FORWARD PROPAGATION (FROM X TO COST)\n",
    "    #(≈ 2 lines of code)\n",
    "    # compute activation\n",
    "    # A = ...\n",
    "    # compute cost by using np.dot to perform multiplication. \n",
    "    # And don't use loops for the sum.\n",
    "    # cost = ...                                \n",
    "    # YOUR CODE STARTS HERE \n",
    "    A = sigmoid(np.dot(w.T,X) + b)   # w.T is (1,number of samples), X is (number of samples, number of parameters)\n",
    "    cost = -1/m * np.sum(Y*np.log(A) + (1-Y)*np.log(1-A))\n",
    "    # YOUR CODE ENDS HERE\n",
    "\n",
    "    # BACKWARD PROPAGATION (TO FIND GRAD)\n",
    "    #(≈ 2 lines of code)\n",
    "    # dw = ...\n",
    "    # db = ...\n",
    "    # YOUR CODE STARTS HERE\n",
    "    dw = 1/m * np.dot(X,(A-Y).T)   # dw is (number of samples,1)\n",
    "    db = 1/m * np.sum(A-Y)          # db is a scalar\n",
    "    # YOUR CODE ENDS HERE\n",
    "    \n",
    "    cost = np.squeeze(np.array(cost))\n",
    "    #For example, let's say you have a 2D NumPy array with shape (3,1). \n",
    "    #If you use np.squeeze on this array, it will remove the second dimension \n",
    "    #with size 1 and return a 1D array with shape (3,).\n",
    "    \n",
    "    \n",
    "    grads = {\"dw\": dw,\n",
    "             \"db\": db}\n",
    "    \n",
    "    return grads, cost"
   ]
  },
  {
   "cell_type": "code",
   "execution_count": 16,
   "id": "939ed3c3",
   "metadata": {
    "editable": false
   },
   "outputs": [
    {
     "name": "stdout",
     "output_type": "stream",
     "text": [
      "dw = [[ 0.25071532]\n",
      " [-0.06604096]]\n",
      "db = -0.1250040450043965\n",
      "cost = 0.15900537707692405\n"
     ]
    }
   ],
   "source": [
    "w =  np.array([[1.], [2]])\n",
    "b = 1.5\n",
    "X = np.array([[1., -2., -1.], [3., 0.5, -3.2]])\n",
    "Y = np.array([[1, 1, 0]])\n",
    "grads, cost = propagate(w, b, X, Y)\n",
    "\n",
    "assert type(grads[\"dw\"]) == np.ndarray\n",
    "assert grads[\"dw\"].shape == (2, 1)\n",
    "assert type(grads[\"db\"]) == np.float64\n",
    "\n",
    "\n",
    "print (\"dw = \" + str(grads[\"dw\"]))\n",
    "print (\"db = \" + str(grads[\"db\"]))\n",
    "print (\"cost = \" + str(cost))"
   ]
  },
  {
   "cell_type": "markdown",
   "id": "e233e51a",
   "metadata": {},
   "source": [
    "<a name='5-4'></a>\n",
    "### 5.4 - Optimization\n",
    "- You have initialized your parameters.\n",
    "- You are also able to compute a cost function and its gradient.\n",
    "- Now, you want to update the parameters using gradient descent.\n",
    "\n",
    "<a name='ex-5'></a>\n",
    "### Exercise 5 - optimize\n",
    "Write down the optimization function. The goal is to learn $w$ and $b$ by minimizing the cost function $J$. For a parameter $\\theta$, the update rule is $ \\theta = \\theta - \\alpha \\text{ } d\\theta$, where $\\alpha$ is the learning rate."
   ]
  },
  {
   "cell_type": "code",
   "execution_count": 17,
   "id": "74a42f64",
   "metadata": {},
   "outputs": [],
   "source": [
    "# GRADED FUNCTION: optimize\n",
    "\n",
    "def optimize(w, b, X, Y, num_iterations=2000, learning_rate=0.009, print_cost=False):\n",
    "    \"\"\"\n",
    "    This function optimizes w and b by running a gradient descent algorithm\n",
    "    \n",
    "    Arguments:\n",
    "    w -- weights, a numpy array of size (number of samples, 1)\n",
    "    b -- bias, a scalar\n",
    "    X -- data of size (number of samples, number of parameters)\n",
    "    Y -- Target\n",
    "    num_iterations -- number of iterations of the optimization loop\n",
    "    learning_rate -- learning rate of the gradient descent update rule\n",
    "    print_cost -- True to print the loss every 100 steps\n",
    "    \n",
    "    Returns:\n",
    "    params -- dictionary containing the weights w and bias b\n",
    "    grads -- dictionary containing the gradients of the weights and bias with respect to the cost function\n",
    "    costs -- list of all the costs computed during the optimization, this will be used to plot the learning curve.\n",
    "    \n",
    "    Tips:\n",
    "    You basically need to write down two steps and iterate through them:\n",
    "        1) Calculate the cost and the gradient for the current parameters. Use propagate().\n",
    "        2) Update the parameters using gradient descent rule for w and b.\n",
    "    \"\"\"\n",
    "    \n",
    "    w = copy.deepcopy(w)\n",
    "    b = copy.deepcopy(b)\n",
    "    \n",
    "    # A deep copy means that the new object is completely independent of the original object, \n",
    "    # and any changes made to the new object will not affect the original object.\n",
    "    \n",
    "    costs = []\n",
    "    \n",
    "    for i in range(num_iterations):\n",
    "        # (≈ 1 lines of code)\n",
    "        # Cost and gradient calculation \n",
    "        # grads, cost = ...\n",
    "        # YOUR CODE STARTS HERE\n",
    "        grads, cost = propagate(w, b, X, Y)\n",
    "        # YOUR CODE ENDS HERE\n",
    "        \n",
    "        # Retrieve derivatives from grads\n",
    "        dw = grads[\"dw\"]\n",
    "        db = grads[\"db\"]\n",
    "        \n",
    "        # update rule (≈ 2 lines of code)\n",
    "        # w = ...\n",
    "        # b = ...\n",
    "        # YOUR CODE STARTS HERE\n",
    "        w = w - learning_rate * dw\n",
    "        b = b - learning_rate * db\n",
    "        # YOUR CODE ENDS HERE\n",
    "        \n",
    "        # Record the costs\n",
    "        if i % 100 == 0:\n",
    "            costs.append(cost)\n",
    "        \n",
    "            # Print the cost every 100 training iterations\n",
    "            if print_cost:\n",
    "                print (\"Cost after iteration %i: %f\" %(i, cost))\n",
    "                \n",
    "    \n",
    "    params = {\"w\": w,\n",
    "              \"b\": b}\n",
    "    \n",
    "    grads = {\"dw\": dw,\n",
    "             \"db\": db}\n",
    "    \n",
    "    return params, grads, costs"
   ]
  },
  {
   "cell_type": "code",
   "execution_count": 18,
   "id": "00302425",
   "metadata": {
    "editable": false
   },
   "outputs": [
    {
     "name": "stdout",
     "output_type": "stream",
     "text": [
      "w = [[-0.08896673]\n",
      " [ 2.35945288]]\n",
      "b = 2.033627396755125\n",
      "dw = [[ 0.02022468]\n",
      " [-0.01021726]]\n",
      "db = -0.00944359761774766\n",
      "Costs = [array(0.15900538), array(0.10541138), array(0.07681337), array(0.05976109), array(0.04867359), array(0.04097783), array(0.03536348), array(0.03110563), array(0.02777532), array(0.02510443), array(0.02291761), array(0.02109579), array(0.01955551), array(0.01823664), array(0.01709487), array(0.01609682), array(0.01521696), array(0.01443539), array(0.01373641), array(0.01310749)]\n"
     ]
    }
   ],
   "source": [
    "w =  np.array([[1.], [2]])\n",
    "b = 1.5\n",
    "X = np.array([[1., -2., -1.], [3., 0.5, -3.2]])\n",
    "Y = np.array([[1, 1, 0]])\n",
    "\n",
    "params, grads, costs = optimize(w, b, X, Y, num_iterations=2000, learning_rate=0.009, print_cost=False)\n",
    "\n",
    "print (\"w = \" + str(params[\"w\"]))\n",
    "print (\"b = \" + str(params[\"b\"]))\n",
    "print (\"dw = \" + str(grads[\"dw\"]))\n",
    "print (\"db = \" + str(grads[\"db\"]))\n",
    "print(\"Costs = \" + str(costs))"
   ]
  },
  {
   "cell_type": "markdown",
   "id": "97829fe1",
   "metadata": {},
   "source": [
    "<a name='ex-6'></a>\n",
    "### Exercise 6 - predict\n",
    "The previous function will output the learned w and b. We are able to use w and b to predict the labels for a dataset X. Implement the `predict()` function by:\n",
    "\n",
    "Calculate $\\hat{Y} = A = \\sigma(w^T X + b)$\n",
    "\n"
   ]
  },
  {
   "cell_type": "code",
   "execution_count": 19,
   "id": "3e2e5ffe",
   "metadata": {},
   "outputs": [],
   "source": [
    "# GRADED FUNCTION: predict\n",
    "\n",
    "def predict(w, b, X):\n",
    "    \"\"\"\"\n",
    "    Arguments:\n",
    "    w -- weights, a numpy array of size (number of input parameters, 1)\n",
    "    b -- bias, a scalar\n",
    "    X -- data of size (number of samples, number of parameters)\n",
    "    \n",
    "    Returns:\n",
    "    Y_prediction -- a numpy array (vector) containing all predictions for the examples in X\n",
    "    \"\"\"\n",
    "    \n",
    "    m = X.shape[1]\n",
    "    Y_prediction = np.zeros((1, m))\n",
    "    w = w.reshape(X.shape[0], 1)\n",
    "    \n",
    "    #(≈ 1 line of code)\n",
    "    # A = ...\n",
    "    # YOUR CODE STARTS HERE\n",
    "    A = sigmoid(np.dot(w.T,X) + b)   # w.T is (1,number of samples), X is (number of samples, number of parameters)\n",
    "    # YOUR CODE ENDS HERE\n",
    "        \n",
    "        \n",
    "    for i in range(A.shape[1]):\n",
    "        \n",
    "        Y_prediction[0,i] = A[0, i]\n",
    "                \n",
    "           \n",
    "    return Y_prediction\n",
    "    "
   ]
  },
  {
   "cell_type": "code",
   "execution_count": 20,
   "id": "73e1fefe",
   "metadata": {
    "editable": false
   },
   "outputs": [
    {
     "name": "stdout",
     "output_type": "stream",
     "text": [
      "predictions = [[0.52241976 0.50960677 0.34597965]]\n"
     ]
    }
   ],
   "source": [
    "w = np.array([[0.1124579], [0.23106775]])\n",
    "b = -0.3\n",
    "X = np.array([[1., -1.1, -3.2],[1.2, 2., 0.1]])\n",
    "print (\"predictions = \" + str(predict(w, b, X)))"
   ]
  },
  {
   "cell_type": "markdown",
   "id": "4c468784",
   "metadata": {},
   "source": [
    "<font color='yellow'>\n",
    "    \n",
    "**What to remember:**\n",
    "    \n",
    "You've implemented several functions that:\n",
    "- Initialize (w,b)\n",
    "- Optimize the loss iteratively to learn parameters (w,b):\n",
    "    - Computing the cost and its gradient \n",
    "    - Updating the parameters using gradient descent\n",
    "- Use the learned (w,b) to predict the labels for a given set of examples"
   ]
  },
  {
   "cell_type": "markdown",
   "id": "f7e01ab8",
   "metadata": {},
   "source": [
    "<a name='6'></a>\n",
    "## 6 - Merge all functions into a model ##\n",
    "\n",
    "You will now see how the overall model is structured by putting together all the building blocks (functions implemented in the previous parts) together, in the right order.\n",
    "\n",
    "<a name='ex-7'></a>\n",
    "### Exercise 7 - model\n",
    "Implement the model function. Use the following notation:\n",
    "    - Y_prediction_test for your predictions on the test set\n",
    "    - Y_prediction_train for your predictions on the train set\n",
    "    - parameters, grads, costs for the outputs of optimize()"
   ]
  },
  {
   "cell_type": "code",
   "execution_count": 21,
   "id": "e6ef1fad",
   "metadata": {},
   "outputs": [],
   "source": [
    "# GRADED FUNCTION: model\n",
    "\n",
    "def model(train_set_x_normalized, train_set_y_normalized , test_set_x_normalized, test_set_y_normalized, num_iterations=10000, learning_rate=.85, print_cost=False):\n",
    "    \"\"\"\n",
    "    Builds the logistic regression model by calling the function you've implemented previously\n",
    "    \n",
    "    Arguments:\n",
    "    train_set_x_normalized -- training set represented by a numpy array\n",
    "    train_set_y_normalized -- training labels represented by a numpy array (vector)\n",
    "    test_set_x_normalized -- test set represented by a numpy array\n",
    "    Y_test -- test labels represented by a numpy array (vector)\n",
    "    num_iterations -- hyperparameter representing the number of iterations to optimize the parameters\n",
    "    learning_rate -- hyperparameter representing the learning rate used in the update rule of optimize()\n",
    "    print_cost -- Set to True to print the cost every 100 iterations\n",
    "    \n",
    "    Returns:\n",
    "    d -- dictionary containing information about the model.\n",
    "    \"\"\"\n",
    "    # (≈ 1 line of code)   \n",
    "    # initialize parameters with zeros \n",
    "    # w, b = ...\n",
    "    dim = train_set_x_normalized.shape[0]\n",
    "    # YOUR CODE STARTS HERE\n",
    "    w,b = initialize_with_zeros(dim)\n",
    "    # YOUR CODE ENDS HERE    \n",
    "\n",
    "    #(≈ 1 line of code)\n",
    "    # Gradient descent \n",
    "    # params, grads, costs = ...\n",
    "    X = train_set_x_normalized\n",
    "    Y = train_set_y_normalized\n",
    "    # YOUR CODE STARTS HERE\n",
    "    params, grads, costs = optimize(w, b, X, Y, num_iterations, learning_rate, print_cost)\n",
    "    # YOUR CODE ENDS HERE   \n",
    "    \n",
    "        \n",
    "    # Retrieve parameters w and b from dictionary \"params\"\n",
    "    # w = ...\n",
    "    # b = ...\n",
    "    w=params[\"w\"]\n",
    "    b=params[\"b\"]\n",
    "\n",
    "    \n",
    "    # Predict test/train set examples (≈ 2 lines of code)\n",
    "    # Y_prediction_test = ...\n",
    "    # Y_prediction_train = ...\n",
    "    \n",
    "    # YOUR CODE STARTS HERE\n",
    "    Y_prediction_test = predict(w, b, test_set_x_normalized)\n",
    "    Y_prediction_train = predict(w, b, train_set_x_normalized)\n",
    "    # YOUR CODE ENDS HERE\n",
    "\n",
    "    # Print train/test Errors\n",
    "    if print_cost:\n",
    "        #print(\"train accuracy: {} %\".format(100 - np.mean(np.abs(Y_prediction_train - train_set_y_normalized)) * 100))\n",
    "        print(\"train accuracy: {} %\".format(100 - np.mean(np.abs(Y_prediction_train - train_set_y_normalized)) * 100))\n",
    "        print(\"test accuracy: {} %\".format(100 - np.mean(np.abs(Y_prediction_test - test_set_y_normalized)) * 100))\n",
    "    \n",
    "    d = {\"costs\": costs,\n",
    "         \"Y_prediction_test\": Y_prediction_test, \n",
    "         \"Y_prediction_train\" : Y_prediction_train, \n",
    "         \"w\" : w, \n",
    "         \"b\" : b,\n",
    "         \"learning_rate\" : learning_rate,\n",
    "         \"num_iterations\": num_iterations}\n",
    "    \n",
    "    return d"
   ]
  },
  {
   "cell_type": "code",
   "execution_count": 22,
   "id": "5bd158f1",
   "metadata": {},
   "outputs": [
    {
     "name": "stdout",
     "output_type": "stream",
     "text": [
      "\u001b[92mAll tests passed!\n"
     ]
    }
   ],
   "source": [
    "from public_tests import *\n",
    "\n",
    "model_test(model)"
   ]
  },
  {
   "cell_type": "code",
   "execution_count": 23,
   "id": "97841a10",
   "metadata": {},
   "outputs": [
    {
     "name": "stdout",
     "output_type": "stream",
     "text": [
      "Cost after iteration 0: 0.693147\n",
      "Cost after iteration 100: 0.615158\n",
      "Cost after iteration 200: 0.611436\n",
      "Cost after iteration 300: 0.609852\n",
      "Cost after iteration 400: 0.609091\n",
      "Cost after iteration 500: 0.608718\n",
      "Cost after iteration 600: 0.608533\n",
      "Cost after iteration 700: 0.608441\n",
      "Cost after iteration 800: 0.608395\n",
      "Cost after iteration 900: 0.608372\n",
      "train accuracy: 92.62700424473724 %\n",
      "test accuracy: 90.0051994682858 %\n"
     ]
    }
   ],
   "source": [
    "logistic_regression_model = model(train_set_x_normalized, train_set_y_normalized, test_set_x_normalized, test_set_y_normalized, num_iterations=1000, learning_rate=.85, print_cost=True)"
   ]
  },
  {
   "cell_type": "markdown",
   "id": "2a22a77b",
   "metadata": {},
   "source": [
    "Let's also plot the cost function and the gradients."
   ]
  },
  {
   "cell_type": "code",
   "execution_count": 24,
   "id": "2e360efc",
   "metadata": {
    "scrolled": true
   },
   "outputs": [
    {
     "data": {
      "image/png": "[encoded data removed]",
      "text/plain": [
       "<Figure size 640x480 with 1 Axes>"
      ]
     },
     "metadata": {},
     "output_type": "display_data"
    }
   ],
   "source": [
    "# Plot learning curve (with costs)\n",
    "costs = np.squeeze(logistic_regression_model['costs'])\n",
    "plt.plot(costs)\n",
    "plt.ylabel('cost')\n",
    "plt.xlabel('iterations (per hundreds)')\n",
    "plt.title(\"Learning rate =\" + str(logistic_regression_model[\"learning_rate\"]))\n",
    "plt.show()"
   ]
  },
  {
   "cell_type": "markdown",
   "id": "2aca4ab6",
   "metadata": {},
   "source": [
    "**Interpretation**:\n",
    "You can see the cost decreasing. It shows that the parameters are being learned. However, you see that you could train the model even more on the training set. Try to increase the number of iterations in the cell above and rerun the cells. You might see that the training set accuracy goes up, but the test set accuracy goes down. This is called overfitting. "
   ]
  },
  {
   "cell_type": "markdown",
   "id": "9c467e86",
   "metadata": {},
   "source": [
    "In the next cell, we denormalize the prediced values of test data set and compare with real values. "
   ]
  },
  {
   "cell_type": "code",
   "execution_count": 25,
   "id": "81d109ee",
   "metadata": {},
   "outputs": [],
   "source": [
    "#Reverse normalization\n",
    "from sklearn.preprocessing import MinMaxScaler\n",
    "import numpy as np\n",
    "\n",
    "# Reverse the normalization to get the original data\n",
    "Y_prediction_test_real_scale = scaler.inverse_transform(logistic_regression_model[\"Y_prediction_test\"])\n",
    "\n"
   ]
  },
  {
   "cell_type": "markdown",
   "id": "2cc617e6",
   "metadata": {},
   "source": [
    "<a name='7'></a>\n",
    "##  7 - Results Analysis"
   ]
  },
  {
   "cell_type": "code",
   "execution_count": 26,
   "id": "b71d8595",
   "metadata": {
    "scrolled": true
   },
   "outputs": [
    {
     "data": {
      "image/png": "[encoded data removed]",
      "text/plain": [
       "<Figure size 640x480 with 1 Axes>"
      ]
     },
     "metadata": {},
     "output_type": "display_data"
    }
   ],
   "source": [
    "import matplotlib.pyplot as plt\n",
    "import numpy as np\n",
    "\n",
    "# Define the two vectors\n",
    "1758\n",
    "x = np.arange(0,8760, 1)\n",
    "y1 = test_set_y_orig\n",
    "y2 = Y_prediction_test_real_scale.T\n",
    "\n",
    "\n",
    "# Plot the vectors\n",
    "plt.plot(x, y1, label='Observed')\n",
    "plt.plot(x, y2, label='Simulated')\n",
    "\n",
    "# Add a title and labels for the x and y axes\n",
    "plt.title('Plot of Observed vs Simulated Vectors')\n",
    "plt.xlabel('Hours of the year')\n",
    "plt.ylabel('Temperature C')\n",
    "\n",
    "# Set the y-axis limits\n",
    "plt.ylim()\n",
    "\n",
    "# Add a legend\n",
    "plt.legend()\n",
    "\n",
    "# Display the plot\n",
    "plt.show()"
   ]
  },
  {
   "cell_type": "markdown",
   "id": "411f5f24",
   "metadata": {},
   "source": [
    "<font color='yellow'>\n",
    "    \n",
    "**What to remember from this assignment:**\n",
    "1. Preprocessing the dataset is important.\n",
    "2. You implemented each function separately: initialize(), propagate(), optimize(). Then you built a model().\n",
    "3. Tuning the learning rate (which is an example of a \"hyperparameter\") can make a big difference to the algorithm. You will see more examples of this later in this course!"
   ]
  },
  {
   "cell_type": "markdown",
   "id": "fad2cdab",
   "metadata": {},
   "source": [
    "<a name='8'></a>\n",
    "##  8 - References\n",
    "- Speech and Language Processing. Daniel Jurafsky & James H. Martin. Draft of January 7, 2023.Chapter 5, Logistic Regression\n",
    "- https://www.deeplearning.ai/\n",
    "- http://www.wildml.com/2015/09/implementing-a-neural-network-from-scratch/"
   ]
  }
 ],
 "metadata": {
  "kernelspec": {
   "display_name": "AI_course-env",
   "language": "python",
   "name": "python3"
  },
  "language_info": {
   "codemirror_mode": {
    "name": "ipython",
    "version": 3
   },
   "file_extension": ".py",
   "mimetype": "text/x-python",
   "name": "python",
   "nbconvert_exporter": "python",
   "pygments_lexer": "ipython3",
   "version": "3.10.18"
  }
 },
 "nbformat": 4,
 "nbformat_minor": 5
}
