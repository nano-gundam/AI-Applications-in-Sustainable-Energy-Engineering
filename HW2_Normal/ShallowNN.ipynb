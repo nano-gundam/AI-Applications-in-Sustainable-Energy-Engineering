{
 "cells": [
  {
   "cell_type": "markdown",
   "id": "fb602079",
   "metadata": {},
   "source": [
    "# Shallow Neural Network with one hidden layer\n",
    "\n",
    "Welcome to the Shallow Neural Network programming assignment! It's time to build your first neural network, which will have one hidden layer. Now, you'll notice a big difference between this model and the one you implemented previously using logistic regression.\n",
    "\n",
    "By the end of this assignment, you'll be able to:\n",
    "\n",
    "- Implement a forecasting model using neural network with a single hidden layer\n",
    "- Use units with a non-linear activation function, such as tanh\n",
    "- Implement forward and backward propagation\n",
    "\n",
    "\n",
    "## Important Note on answering the questions on CANVAS:\n",
    "\n",
    "In order to answer the questions correctly, you only need to write the codes in places which are specified as:\n",
    "```python\n",
    "\n",
    "# YOUR CODE STARTS HERE\n",
    "\n",
    "YOUR CODE\n",
    "\n",
    "# YOUR CODE ENDS HERE\n",
    "```\n",
    "\n",
    "You shouldn't change other lines of code. However, you can always make a copy of the file and investigate other lines."
   ]
  },
  {
   "cell_type": "markdown",
   "id": "7c440714",
   "metadata": {},
   "source": [
    "## Table of Contents\n",
    "- [1 - Packages](#1)\n",
    "- [2 - Load the Dataset and Normalization](#2)\n",
    "    - [Exercise 1](#ex-1)\n",
    "- [3 - Neural Network model](#3)\n",
    "    - [3.1 - Defining the neural network structure](#3-1)\n",
    "        - [Exercise 2 - layer_sizes](#ex-2)\n",
    "    - [3.2 - Initialize the model's parameters](#3-2)\n",
    "        - [Exercise 3 - initialize_parameters](#ex-3)\n",
    "    - [3.3 - The Loop](#3-3)\n",
    "        - [Exercise 4 - forward_propagation](#ex-4)\n",
    "    - [3.4 - Compute the Cost](#3-4)\n",
    "        - [Exercise 5 - compute_cost](#ex-5)\n",
    "    - [3.5 - Implement Backpropagation](#3-5)\n",
    "        - [Exercise 6 - backward_propagation](#ex-6)\n",
    "    - [3.6 - Update Parameters](#3-6)\n",
    "        - [Exercise 7 - update_parameters](#ex-7)\n",
    "    - [3.7 - Integration](#3-7)\n",
    "- [4 - Test the Model](#4)\n",
    "    - [4.1 - Predict](#4-1)\n",
    "        - [Exercise 8 - predict](#ex-8)\n",
    "    - [4.2 - Test the Model on the wastwater data ](#4-2)\n",
    "- [5 - Results Analysis](#5)\n",
    "- [6 - References](#6)"
   ]
  },
  {
   "cell_type": "markdown",
   "id": "7776ce64",
   "metadata": {},
   "source": [
    "<a name='1'></a>\n",
    "# 1 - Packages\n",
    "\n",
    "First import all the packages that you will need during this assignment.\n",
    "\n",
    "- [numpy](https://www.numpy.org/) is the fundamental package for scientific computing with Python.\n",
    "- [pandas](https://www.w3schools.com/python/pandas/pandas_intro.asp#:~:text=What%20is%20Pandas%3F,by%20Wes%20McKinney%20in%202008.) used for working with data sets.\n",
    "- [sklearn](http://scikit-learn.org/stable/) provides simple and efficient tools for data mining and data analysis. \n",
    "- [matplotlib](http://matplotlib.org) is a library for plotting graphs in Python.\n",
    "- testCases provides some test examples to assess the correctness of your functions"
   ]
  },
  {
   "cell_type": "code",
   "execution_count": 2,
   "id": "85ac4858",
   "metadata": {},
   "outputs": [],
   "source": [
    "# Package imports\n",
    "import numpy as np\n",
    "import pandas as pd\n",
    "import copy\n",
    "import matplotlib.pyplot as plt\n",
    "from testCases_v2 import *\n",
    "from public_tests import *"
   ]
  },
  {
   "cell_type": "markdown",
   "id": "4604561f",
   "metadata": {},
   "source": [
    "<a name='2'></a>\n",
    "# 2 - Load the Dataset and Normalization\n",
    "Data from 2009 to 2018 will be used as training sets. Data for 2019 will be used for testing."
   ]
  },
  {
   "cell_type": "code",
   "execution_count": 3,
   "id": "ac41fa12",
   "metadata": {},
   "outputs": [],
   "source": [
    "# Loading the data \n",
    "# Loading the data \n",
    "input_data = pd.read_excel(\"Input for ANN_10year.xlsx\")\n",
    "input_data_2019 = pd.read_excel(\"Input for ANN.xlsx\")\n",
    "input_data = input_data.values   # .values converts a pandas dataframe to a numpy array \n",
    "input_data_2019 = input_data_2019.values"
   ]
  },
  {
   "cell_type": "code",
   "execution_count": 4,
   "id": "4d555cbf",
   "metadata": {},
   "outputs": [],
   "source": [
    "#Categorizing the data into inputs (x) and outputs (y) as well as training set and testing set\n",
    "train_set_x_orig = input_data[:87600,1:8]\n",
    "test_set_x_orig = input_data_2019[:8760,1:8]\n",
    "train_set_y_orig = input_data[:87600,-1:]\n",
    "test_set_y_orig = input_data_2019[:8760,-1:]"
   ]
  },
  {
   "cell_type": "code",
   "execution_count": 5,
   "id": "4998616b",
   "metadata": {},
   "outputs": [],
   "source": [
    "#Normalization process\n",
    "from sklearn.preprocessing import MinMaxScaler\n",
    "scaler = MinMaxScaler(feature_range=(0,1))\n",
    "train_set_x_normalized = scaler.fit_transform(train_set_x_orig)\n",
    "test_set_x_normalized = scaler.fit_transform(test_set_x_orig)\n",
    "train_set_y_normalized = scaler.fit_transform(train_set_y_orig)\n",
    "test_set_y_normalized = scaler.fit_transform(test_set_y_orig)\n",
    "\n",
    "#Transpose the data to put all features in the rows and all samples in the columns\n",
    "train_set_x_normalized = train_set_x_normalized.T     # .T Transpose a numpy array  \n",
    "test_set_x_normalized = test_set_x_normalized.T\n",
    "train_set_y_normalized = train_set_y_normalized.T\n",
    "test_set_y_normalized = test_set_y_normalized.T"
   ]
  },
  {
   "cell_type": "markdown",
   "id": "7d4ba031",
   "metadata": {},
   "source": [
    "<a name='ex-1'></a>\n",
    "### Exercise 1 \n",
    "Find the values for:\n",
    "    - m_train (number of training examples)\n",
    "    - m_test (number of test examples)\n",
    "For instance, you can access `m_train` by writing `train_set_x_orig.shape[0]`.\n",
    "\n",
    "Run the following cell to answer exercise 1 on CANVAS."
   ]
  },
  {
   "cell_type": "code",
   "execution_count": 6,
   "id": "3c2058cd",
   "metadata": {
    "scrolled": true
   },
   "outputs": [
    {
     "name": "stdout",
     "output_type": "stream",
     "text": [
      "Number of training examples: m_train = 87600\n",
      "Number of testing examples: m_test = 8760\n",
      "train_set_x shape: (7, 87600)\n",
      "train_set_y shape: (1, 87600)\n",
      "test_set_x shape: (7, 8760)\n",
      "test_set_y shape: (1, 8760)\n"
     ]
    }
   ],
   "source": [
    "m_train = train_set_x_orig.shape[0]\n",
    "m_test = test_set_x_orig.shape[0]\n",
    "print (\"Number of training examples: m_train = \" + str(m_train))\n",
    "print (\"Number of testing examples: m_test = \" + str(m_test))\n",
    "print (\"train_set_x shape: \" + str(train_set_x_normalized.shape))\n",
    "print (\"train_set_y shape: \" + str(train_set_y_normalized.shape))\n",
    "print (\"test_set_x shape: \" + str(test_set_x_normalized.shape))\n",
    "print (\"test_set_y shape: \" + str(test_set_y_normalized.shape))"
   ]
  },
  {
   "cell_type": "markdown",
   "id": "aed7c296",
   "metadata": {},
   "source": [
    "<a name='3'></a>\n",
    "## 3 - Neural Network model\n",
    "\n",
    "You're going to train a Neural Network with a single hidden layer and see how that handles the same problem you solved with Logistic Regression.\n",
    "\n",
    "**The model**:\n",
    "<img src=\"Images/NN model.PNG\" style=\"width:600px;height:300px;\">\n",
    "\n",
    "**Mathematically**:\n",
    "\n",
    "For one example $x^{(i)}$:\n",
    "$$\n",
    "z^{[1] (i)} =  W^{[1]} x^{(i)} + b^{[1]}\\tag{1}\n",
    "$$ \n",
    "$$a^{[1] (i)} = \\tanh(z^{[1] (i)})\\tag{2}$$\n",
    "$$z^{[2] (i)} = W^{[2]} a^{[1] (i)} + b^{[2]}\\tag{3}$$\n",
    "$$\\hat{y}^{(i)} = a^{[2] (i)} = \\sigma(z^{ [2] (i)})\\tag{4}$$\n",
    "\n",
    "Given the predictions on all the examples, you can also compute the cost $J$ as follows: \n",
    "$$J = - \\frac{1}{m} \\sum\\limits_{i = 0}^{m} \\large\\left(\\small y^{(i)}\\log\\left(a^{[2] (i)}\\right) + (1-y^{(i)})\\log\\left(1- a^{[2] (i)}\\right)  \\large  \\right) \\small \\tag{5}$$\n",
    "\n",
    "**Reminder**: The general methodology to build a Neural Network is to:\n",
    "    1. Define the neural network structure ( # of input units,  # of hidden units, etc). \n",
    "    2. Initialize the model's parameters\n",
    "    3. Loop:\n",
    "        - Implement forward propagation\n",
    "        - Compute loss\n",
    "        - Implement backward propagation to get the gradients\n",
    "        - Update parameters (gradient descent)\n",
    "\n",
    "In practice, you'll often build helper functions to compute steps 1-3, then merge them into one function called `nn_model()`. Once you've built `nn_model()` and learned the right parameters, you can make predictions on new data."
   ]
  },
  {
   "cell_type": "markdown",
   "id": "3d8f7fd2",
   "metadata": {},
   "source": [
    "<a name='3-1'></a>\n",
    "### 3.1 - Defining the neural network structure ####\n",
    "\n",
    "<a name='ex-2'></a>\n",
    "### Exercise 2 - layer_sizes \n",
    "\n",
    "Define three variables:\n",
    "    - n_x: the size of the input layer\n",
    "    - n_h: the size of the hidden layer (**set this to 4, only for this Exercise 2**) \n",
    "    - n_y: the size of the output layer\n",
    "\n",
    "**Hint**: Use shapes of X and Y to find n_x and n_y. Also, hard code the hidden layer size to be 4."
   ]
  },
  {
   "cell_type": "code",
   "execution_count": 7,
   "id": "24835e49",
   "metadata": {},
   "outputs": [],
   "source": [
    "# GRADED FUNCTION: layer_sizes\n",
    "\n",
    "def layer_sizes(X, Y):\n",
    "    \"\"\"\n",
    "    Arguments:\n",
    "    X -- input dataset of shape (input size, number of examples)\n",
    "    Y -- labels of shape (output size, number of examples)\n",
    "    \n",
    "    Returns:\n",
    "    n_x -- the size of the input layer\n",
    "    n_h -- the size of the hidden layer\n",
    "    n_y -- the size of the output layer\n",
    "    \"\"\"\n",
    "    #(≈ 3 lines of code)\n",
    "\n",
    "    # YOUR CODE STARTS HERE\n",
    "    n_x = X.shape[0]  # size of input layer\n",
    "    n_h = 4          # size of hidden layer = 4\n",
    "    n_y = Y.shape[0]  # size of output layer\n",
    "\n",
    "    # YOUR CODE ENDS HERE\n",
    "    return (n_x, n_h, n_y)"
   ]
  },
  {
   "cell_type": "markdown",
   "id": "93f0a9eb",
   "metadata": {},
   "source": [
    "Complete previous cell and run the following cell to answer exercise 2 on CANVAS."
   ]
  },
  {
   "cell_type": "code",
   "execution_count": 8,
   "id": "39310485",
   "metadata": {},
   "outputs": [
    {
     "name": "stdout",
     "output_type": "stream",
     "text": [
      "The size of the input layer is: n_x = 5\n",
      "The size of the hidden layer is: n_h = 4\n",
      "The size of the output layer is: n_y = 2\n"
     ]
    }
   ],
   "source": [
    "t_X, t_Y = layer_sizes_test_case()\n",
    "(n_x, n_h, n_y) = layer_sizes(t_X, t_Y)\n",
    "print(\"The size of the input layer is: n_x = \" + str(n_x))\n",
    "print(\"The size of the hidden layer is: n_h = \" + str(n_h))\n",
    "print(\"The size of the output layer is: n_y = \" + str(n_y))"
   ]
  },
  {
   "cell_type": "markdown",
   "id": "56a961ac",
   "metadata": {},
   "source": [
    "<a name='3-2'></a>\n",
    "### 3.2 - Initialize the model's parameters ####\n",
    "\n",
    "<a name='ex-3'></a>\n",
    "### Exercise 3 -  initialize_parameters\n",
    "\n",
    "Implement the function `initialize_parameters()`.\n",
    "\n",
    "**Instructions**:\n",
    "- Make sure your parameters' sizes are right. Refer to the neural network figure above if needed.\n",
    "- You will initialize the weights matrices with random values. \n",
    "    - Use: `np.random.randn(a,b) * 0.01` to randomly initialize a matrix of shape (a,b).\n",
    "- You will initialize the bias vectors as zeros. \n",
    "    - Use: `np.zeros((a,b))` to initialize a matrix of shape (a,b) with zeros."
   ]
  },
  {
   "cell_type": "code",
   "execution_count": 9,
   "id": "f0672d60",
   "metadata": {},
   "outputs": [],
   "source": [
    "# GRADED FUNCTION: initialize_parameters\n",
    "\n",
    "def initialize_parameters(n_x, n_h, n_y):\n",
    "    \"\"\"\n",
    "    Argument:\n",
    "    n_x -- size of the input layer\n",
    "    n_h -- size of the hidden layer\n",
    "    n_y -- size of the output layer\n",
    "    \n",
    "    Returns:\n",
    "    params -- python dictionary containing your parameters:\n",
    "                    W1 -- weight matrix of shape (n_h, n_x)\n",
    "                    b1 -- bias vector of shape (n_h, 1)\n",
    "                    W2 -- weight matrix of shape (n_y, n_h)\n",
    "                    b2 -- bias vector of shape (n_y, 1)\n",
    "    \"\"\"    \n",
    "    #(≈ 4 lines of code)\n",
    "    # W1 = ...\n",
    "    # b1 = ...\n",
    "    # W2 = ...\n",
    "    # b2 = ...\n",
    "    # YOUR CODE STARTS HERE\n",
    "    W1 = np.random.randn(n_h, n_x) * 0.01\n",
    "    b1 = np.zeros((n_h, 1))\n",
    "    W2 = np.random.randn(n_y, n_h) * 0.01\n",
    "    b2 = np.zeros((n_y, 1))\n",
    "    \n",
    "    # YOUR CODE ENDS HERE\n",
    "\n",
    "    parameters = {\"W1\": W1,\n",
    "                  \"b1\": b1,\n",
    "                  \"W2\": W2,\n",
    "                  \"b2\": b2}\n",
    "    \n",
    "    return parameters"
   ]
  },
  {
   "cell_type": "markdown",
   "id": "b5d6c5e2",
   "metadata": {},
   "source": [
    "Complete previous cell and run the following cell to answer exercise 3 on CANVAS."
   ]
  },
  {
   "cell_type": "code",
   "execution_count": 10,
   "id": "3cca857d",
   "metadata": {},
   "outputs": [
    {
     "name": "stdout",
     "output_type": "stream",
     "text": [
      "W1 = [[-0.00416758 -0.00056267]\n",
      " [-0.02136196  0.01640271]\n",
      " [-0.01793436 -0.00841747]\n",
      " [ 0.00502881 -0.01245288]]\n",
      "b1 = [[0.]\n",
      " [0.]\n",
      " [0.]\n",
      " [0.]]\n",
      "W2 = [[-0.01057952 -0.00909008  0.00551454  0.02292208]]\n",
      "b2 = [[0.]]\n"
     ]
    }
   ],
   "source": [
    "np.random.seed(2)\n",
    "n_x, n_h, n_y = initialize_parameters_test_case()\n",
    "parameters = initialize_parameters(n_x, n_h, n_y)\n",
    "\n",
    "print(\"W1 = \" + str(parameters[\"W1\"]))\n",
    "print(\"b1 = \" + str(parameters[\"b1\"]))\n",
    "print(\"W2 = \" + str(parameters[\"W2\"]))\n",
    "print(\"b2 = \" + str(parameters[\"b2\"]))"
   ]
  },
  {
   "cell_type": "code",
   "execution_count": 11,
   "id": "210e43af",
   "metadata": {},
   "outputs": [],
   "source": [
    "def sigmoid(z):\n",
    "    s=1/(1+np.exp(-z))\n",
    "    return s"
   ]
  },
  {
   "cell_type": "markdown",
   "id": "dca29e84",
   "metadata": {},
   "source": [
    "<a name='3-3'></a>\n",
    "### 3.3 - The Loop \n",
    "\n",
    "<a name='ex-4'></a>\n",
    "### Exercise 4 - forward_propagation\n",
    "\n",
    "Implement `forward_propagation()` using the following equations:\n",
    "\n",
    "$$\n",
    "Z^{[1]} =  W^{[1]} X + b^{[1]}\\tag{6}\n",
    "$$ \n",
    "$$\n",
    "A^{[1]} = \\tanh(Z^{[1]})\\tag{7}\n",
    "$$\n",
    "$$\n",
    "Z^{[2]} = W^{[2]} A^{[1]} + b^{[2]}\\tag{8}\n",
    "$$\n",
    "$$\n",
    "\\hat{Y} = A^{[2]} = \\sigma(Z^{[2]})\\tag{9}\n",
    "$$\n",
    "\n",
    "\n",
    "**Instructions**:\n",
    "\n",
    "- Check the mathematical representation of yourmodel in the figure above.\n",
    "- Use the function `sigmoid()`. It's built into in the previous cell.\n",
    "- Use the function `np.tanh()`. It's part of the numpy library.\n",
    "- Implement using these steps:\n",
    "    1. Retrieve each parameter from the dictionary \"parameters\" (which is the output of `initialize_parameters()` by using `parameters[\"..\"]`.\n",
    "    2. Implement Forward Propagation. Compute $Z^{[1]}, A^{[1]}, Z^{[2]}$ and $A^{[2]}$ (the vector of all your predictions on all the examples in the training set).\n",
    "- Values needed in the backpropagation are stored in \"cache\". The cache will be given as an input to the backpropagation function."
   ]
  },
  {
   "cell_type": "code",
   "execution_count": 12,
   "id": "4cc40d22",
   "metadata": {},
   "outputs": [],
   "source": [
    "# GRADED FUNCTION:forward_propagation\n",
    "\n",
    "def forward_propagation(X, parameters):\n",
    "    \"\"\"\n",
    "    Argument:\n",
    "    X -- input data of size (n_x, m)\n",
    "    parameters -- python dictionary containing your parameters (output of initialization function)\n",
    "    \n",
    "    Returns:\n",
    "    A2 -- The sigmoid output of the second activation\n",
    "    cache -- a dictionary containing \"Z1\", \"A1\", \"Z2\" and \"A2\"\n",
    "    \"\"\"\n",
    "    # Retrieve each parameter from the dictionary \"parameters\"\n",
    "    #(≈ 4 lines of code)\n",
    "    # W1 = ...\n",
    "    # b1 = ...\n",
    "    # W2 = ...\n",
    "    # b2 = ...\n",
    "    # YOUR CODE STARTS HERE\n",
    "    W1 = parameters[\"W1\"]\n",
    "    b1 = parameters[\"b1\"]\n",
    "    W2 = parameters[\"W2\"]\n",
    "    b2 = parameters[\"b2\"]\n",
    "     \n",
    "    # YOUR CODE ENDS HERE\n",
    "    \n",
    "    # Implement Forward Propagation to calculate A2 (probabilities)\n",
    "    # (≈ 4 lines of code)\n",
    "    # Z1 = ...\n",
    "    # A1 = ...\n",
    "    # Z2 = ...\n",
    "    # A2 = ...\n",
    "    # YOUR CODE STARTS HERE\n",
    "    Z1 = np.dot(W1, X) + b1\n",
    "    A1 = np.tanh(Z1)\n",
    "    Z2 = np.dot(W2, A1) + b2\n",
    "    A2 = sigmoid(Z2)\n",
    "    \n",
    "    # YOUR CODE ENDS HERE\n",
    "    \n",
    "    assert(A2.shape == (1, X.shape[1]))\n",
    "    \n",
    "    cache = {\"Z1\": Z1,\n",
    "             \"A1\": A1,\n",
    "             \"Z2\": Z2,\n",
    "             \"A2\": A2}\n",
    "    \n",
    "    return A2, cache"
   ]
  },
  {
   "cell_type": "markdown",
   "id": "b0c4d764",
   "metadata": {},
   "source": [
    "Complete previous cell and run the following cell to answer exercise 4 on CANVAS."
   ]
  },
  {
   "cell_type": "code",
   "execution_count": 13,
   "id": "32158b5e",
   "metadata": {
    "scrolled": true
   },
   "outputs": [
    {
     "name": "stdout",
     "output_type": "stream",
     "text": [
      "A2 = [[0.21292656 0.21274673 0.21295976]]\n"
     ]
    }
   ],
   "source": [
    "t_X, parameters = forward_propagation_test_case()\n",
    "A2, cache = forward_propagation(t_X, parameters)\n",
    "print(\"A2 = \" + str(A2))"
   ]
  },
  {
   "cell_type": "markdown",
   "id": "6b3686da",
   "metadata": {},
   "source": [
    "<a name='3-4'></a>\n",
    "### 3.4 - Compute the Cost\n",
    "\n",
    "Now that you've computed $A^{[2]}$ (in the Python variable \"`A2`\"), which contains $a^{[2](i)}$ for all examples, you can compute the cost function as follows:\n",
    "\n",
    "$$J = - \\frac{1}{m} \\sum\\limits_{i = 1}^{m} \\large{(} \\small y^{(i)}\\log\\left(a^{[2] (i)}\\right) + (1-y^{(i)})\\log\\left(1- a^{[2] (i)}\\right) \\large{)} \\small\\tag{10}$$\n",
    "\n",
    "<a name='ex-5'></a>\n",
    "### Exercise 5 - compute_cost \n",
    "\n",
    "Implement `compute_cost()` to compute the value of the cost $J$.\n",
    "\n",
    "**Instructions**:\n",
    "- There are many ways to compute loss. This is one way to implement one part of the equation without for loops:\n",
    "$- \\sum\\limits_{i=1}^{m}  y^{(i)}\\log(a^{[2](i)})$:\n",
    "```python\n",
    "logprobs = np.multiply(np.log(A2),Y)\n",
    "cost = - np.sum(logprobs)          \n",
    "```\n",
    "\n",
    "- Use that to build the whole expression of the cost function.\n",
    "\n",
    "**Notes**: \n",
    "\n",
    "- You can use either `np.multiply()` and then `np.sum()` or directly `np.dot()`).  \n",
    "- If you use `np.multiply` followed by `np.sum` the end result will be a type `float`, whereas if you use `np.dot`, the result will be a 2D numpy array.  \n",
    "- You can use `np.squeeze()` to remove redundant dimensions (in the case of single float, this will be reduced to a zero-dimension array). \n",
    "- You can also cast the array as a type `float` using `float()`."
   ]
  },
  {
   "cell_type": "code",
   "execution_count": 14,
   "id": "47cbaf6f",
   "metadata": {},
   "outputs": [],
   "source": [
    "# GRADED FUNCTION: compute_cost\n",
    "\n",
    "def compute_cost(A2, Y):\n",
    "    \"\"\"\n",
    "    Computes the cost given in equation (10)\n",
    "    \n",
    "    Arguments:\n",
    "    A2 -- The sigmoid output of the second activation, of shape (1, number of examples)\n",
    "    Y -- \"true\" labels vector of shape (1, number of examples)\n",
    "\n",
    "    Returns:\n",
    "    cost -- cost given equation (10)\n",
    "    \n",
    "    \"\"\"\n",
    "    \n",
    "    m = Y.shape[1] # number of examples\n",
    "\n",
    "    # Compute the cross-entropy cost\n",
    "    # (≈ 2 lines of code)\n",
    "    # logprobs = ...\n",
    "    # cost = ...\n",
    "    # YOUR CODE STARTS HERE\n",
    "    logprobs = np.multiply(np.log(A2), Y) + np.multiply((1 - Y), np.log(1 - A2))\n",
    "    cost = - np.sum(logprobs) / m\n",
    "    \n",
    "    # YOUR CODE ENDS HERE\n",
    "    \n",
    "    cost = float(np.squeeze(cost))  # makes sure cost is the dimension we expect. \n",
    "                                    # E.g., turns [[17]] into 17 \n",
    "    \n",
    "    return cost"
   ]
  },
  {
   "cell_type": "markdown",
   "id": "3f89589a",
   "metadata": {},
   "source": [
    "Complete previous cell and run the following cell to answer exercise 5 on CANVAS."
   ]
  },
  {
   "cell_type": "code",
   "execution_count": 15,
   "id": "a3e8f054",
   "metadata": {
    "scrolled": true
   },
   "outputs": [
    {
     "name": "stdout",
     "output_type": "stream",
     "text": [
      "cost = 0.6930587610394646\n"
     ]
    }
   ],
   "source": [
    "A2, t_Y = compute_cost_test_case()\n",
    "cost = compute_cost(A2, t_Y)\n",
    "print(\"cost = \" + str(compute_cost(A2, t_Y)))"
   ]
  },
  {
   "cell_type": "markdown",
   "id": "20872c62",
   "metadata": {},
   "source": [
    "<a name='3-5'></a>\n",
    "### 3.5 - Implement Backpropagation\n",
    "\n",
    "Using the cache computed during forward propagation, you can now implement backward propagation.\n",
    "\n",
    "<a name='ex-6'></a>\n",
    "### Exercise 6 -  backward_propagation\n",
    "\n",
    "Implement the function `backward_propagation()`.\n",
    "\n",
    "**Instructions**:\n",
    "Backpropagation is usually the hardest (most mathematical) part in deep learning. To help you, here again is the slide from the lecture on backpropagation. You'll want to use the six equations.  \n",
    "\n",
    "<img src=\"Images/Back propagation.PNG\" style=\"width:400px;height:200px;\">\n",
    "\n",
    "<!--\n",
    "$\\frac{\\partial \\mathcal{J} }{ \\partial z_{2}^{(i)} } = \\frac{1}{m} (a^{[2](i)} - y^{(i)})$\n",
    "\n",
    "$\\frac{\\partial \\mathcal{J} }{ \\partial W_2 } = \\frac{\\partial \\mathcal{J} }{ \\partial z_{2}^{(i)} } a^{[1] (i) T} $\n",
    "\n",
    "$\\frac{\\partial \\mathcal{J} }{ \\partial b_2 } = \\sum_i{\\frac{\\partial \\mathcal{J} }{ \\partial z_{2}^{(i)}}}$\n",
    "\n",
    "$\\frac{\\partial \\mathcal{J} }{ \\partial z_{1}^{(i)} } =  W_2^T \\frac{\\partial \\mathcal{J} }{ \\partial z_{2}^{(i)} } * ( 1 - a^{[1] (i) 2}) $\n",
    "\n",
    "$\\frac{\\partial \\mathcal{J} }{ \\partial W_1 } = \\frac{\\partial \\mathcal{J} }{ \\partial z_{1}^{(i)} }  X^T $\n",
    "\n",
    "$\\frac{\\partial \\mathcal{J} _i }{ \\partial b_1 } = \\sum_i{\\frac{\\partial \\mathcal{J} }{ \\partial z_{1}^{(i)}}}$\n",
    "\n",
    "- Note that $*$ denotes elementwise multiplication.\n",
    "- The notation you will use is common in deep learning coding:\n",
    "    - dW1 = $\\frac{\\partial \\mathcal{J} }{ \\partial W_1 }$\n",
    "    - db1 = $\\frac{\\partial \\mathcal{J} }{ \\partial b_1 }$\n",
    "    - dW2 = $\\frac{\\partial \\mathcal{J} }{ \\partial W_2 }$\n",
    "    - db2 = $\\frac{\\partial \\mathcal{J} }{ \\partial b_2 }$\n",
    "    \n",
    "!-->\n",
    "\n",
    "- Tips:\n",
    "    - To compute dZ1 you'll need to compute $g^{[1]'}(Z^{[1]})$. Since $g^{[1]}(.)$ is the tanh activation function, if $a = g^{[1]}(z)$ then $g^{[1]'}(z) = 1-a^2$. So you can compute \n",
    "    $g^{[1]'}(Z^{[1]})$ using `(1 - np.power(A1, 2))`."
   ]
  },
  {
   "cell_type": "code",
   "execution_count": 16,
   "id": "a2e01420",
   "metadata": {},
   "outputs": [],
   "source": [
    "# GRADED FUNCTION: backward_propagation\n",
    "\n",
    "def backward_propagation(parameters, cache, X, Y):\n",
    "    \"\"\"\n",
    "    Implement the backward propagation using the instructions above.\n",
    "    \n",
    "    Arguments:\n",
    "    parameters -- python dictionary containing our parameters \n",
    "    cache -- a dictionary containing \"Z1\", \"A1\", \"Z2\" and \"A2\".\n",
    "    X -- input data of shape (2, number of examples)\n",
    "    Y -- \"true\" labels vector of shape (1, number of examples)\n",
    "    \n",
    "    Returns:\n",
    "    grads -- python dictionary containing your gradients with respect to different parameters\n",
    "    \"\"\"\n",
    "    m = X.shape[1]\n",
    "    \n",
    "    # First, retrieve W1 and W2 from the dictionary \"parameters\".\n",
    "    #(≈ 2 lines of code)\n",
    "    # W1 = ...\n",
    "    # W2 = ...\n",
    "    # YOUR CODE STARTS HERE\n",
    "    W1 = parameters[\"W1\"]\n",
    "    W2 = parameters[\"W2\"]\n",
    "    \n",
    "    # YOUR CODE ENDS HERE\n",
    "        \n",
    "    # Retrieve also A1 and A2 from dictionary \"cache\".\n",
    "    #(≈ 2 lines of code)\n",
    "    # A1 = ...\n",
    "    # A2 = ...\n",
    "    # YOUR CODE STARTS HERE\n",
    "    A1 = cache[\"A1\"]\n",
    "    A2 = cache[\"A2\"]\n",
    "    \n",
    "    # YOUR CODE ENDS HERE\n",
    "    \n",
    "    # Backward propagation: calculate dW1, db1, dW2, db2. \n",
    "    #(≈ 6 lines of code, corresponding to 6 equations on slide above)\n",
    "    # dZ2 = ...\n",
    "    # dW2 = ...\n",
    "    # db2 = ...\n",
    "    # dZ1 = ...\n",
    "    # dW1 = ...\n",
    "    # db1 = ...\n",
    "    # YOUR CODE STARTS HERE\n",
    "    dZ2 = A2 - Y\n",
    "    dW2 = (1/m) * np.dot(dZ2, A1.T)\n",
    "    db2 = (1/m) * np.sum(dZ2, axis=1, keepdims=True)\n",
    "    dZ1 = np.dot(W2.T, dZ2) * (1 - np.power(A1, 2))\n",
    "    dW1 = (1/m) * np.dot(dZ1, X.T)\n",
    "    db1 = (1/m) * np.sum(dZ1, axis=1, keepdims=True)\n",
    "    \n",
    "    # YOUR CODE ENDS HERE\n",
    "    \n",
    "    grads = {\"dW1\": dW1,\n",
    "             \"db1\": db1,\n",
    "             \"dW2\": dW2,\n",
    "             \"db2\": db2}\n",
    "    \n",
    "    return grads"
   ]
  },
  {
   "cell_type": "markdown",
   "id": "f4013f9a",
   "metadata": {},
   "source": [
    "Complete previous cell and run the following cell to answer exercise 6 on CANVAS."
   ]
  },
  {
   "cell_type": "code",
   "execution_count": 17,
   "id": "330465d8",
   "metadata": {
    "scrolled": true
   },
   "outputs": [
    {
     "name": "stdout",
     "output_type": "stream",
     "text": [
      "dW1 = [[ 0.00301023 -0.00747267]\n",
      " [ 0.00257968 -0.00641288]\n",
      " [-0.00156892  0.003893  ]\n",
      " [-0.00652037  0.01618243]]\n",
      "db1 = [[ 0.00176201]\n",
      " [ 0.00150995]\n",
      " [-0.00091736]\n",
      " [-0.00381422]]\n",
      "dW2 = [[ 0.00078841  0.01765429 -0.00084166 -0.01022527]]\n",
      "db2 = [[-0.16655712]]\n"
     ]
    }
   ],
   "source": [
    "parameters, cache, t_X, t_Y = backward_propagation_test_case()\n",
    "\n",
    "grads = backward_propagation(parameters, cache, t_X, t_Y)\n",
    "print (\"dW1 = \"+ str(grads[\"dW1\"]))\n",
    "print (\"db1 = \"+ str(grads[\"db1\"]))\n",
    "print (\"dW2 = \"+ str(grads[\"dW2\"]))\n",
    "print (\"db2 = \"+ str(grads[\"db2\"]))"
   ]
  },
  {
   "cell_type": "markdown",
   "id": "e4a637b9",
   "metadata": {},
   "source": [
    "<a name='3-6'></a>\n",
    "### 3.6 - Update Parameters \n",
    "\n",
    "<a name='ex-7'></a>\n",
    "### Exercise 7 - update_parameters\n",
    "\n",
    "Implement the update rule. Use gradient descent. You have to use (dW1, db1, dW2, db2) in order to update (W1, b1, W2, b2).\n",
    "\n",
    "**General gradient descent rule**: $\\theta = \\theta - \\alpha \\frac{\\partial J }{ \\partial \\theta }$ where $\\alpha$ is the learning rate and $\\theta$ represents a parameter.\n",
    "\n",
    "**Hint**\n",
    "\n",
    "- Use `copy.deepcopy(...)` when copying lists or dictionaries that are passed as parameters to functions. It avoids input parameters being modified within the function. In some scenarios, this could be inefficient, but it is required for grading purposes."
   ]
  },
  {
   "cell_type": "code",
   "execution_count": 18,
   "id": "8213520f",
   "metadata": {},
   "outputs": [],
   "source": [
    "# GRADED FUNCTION: update_parameters\n",
    "\n",
    "def update_parameters(parameters, grads, learning_rate=1.2):\n",
    "    \"\"\"\n",
    "    Updates parameters using the gradient descent update rule given above\n",
    "    \n",
    "    Arguments:\n",
    "    parameters -- python dictionary containing your parameters \n",
    "    grads -- python dictionary containing your gradients \n",
    "    \n",
    "    Returns:\n",
    "    parameters -- python dictionary containing your updated parameters \n",
    "    \"\"\"\n",
    "    # Retrieve a copy of each parameter from the dictionary \"parameters\". Use copy.deepcopy(...) for W1 and W2\n",
    "    #(≈ 4 lines of code)\n",
    "    # W1 = ...\n",
    "    # b1 = ...\n",
    "    # W2 = ...\n",
    "    # b2 = ...\n",
    "    # YOUR CODE STARTS HERE\n",
    "    W1 = copy.deepcopy(parameters[\"W1\"])\n",
    "    b1 = parameters[\"b1\"]\n",
    "    W2 = copy.deepcopy(parameters[\"W2\"])\n",
    "    b2 = parameters[\"b2\"]\n",
    "    \n",
    "    # YOUR CODE ENDS HERE\n",
    "    \n",
    "    # Retrieve each gradient from the dictionary \"grads\"\n",
    "    #(≈ 4 lines of code)\n",
    "    # dW1 = ...\n",
    "    # db1 = ...\n",
    "    # dW2 = ...\n",
    "    # db2 = ...\n",
    "    # YOUR CODE STARTS HERE\n",
    "    dW1 = grads[\"dW1\"]\n",
    "    db1 = grads[\"db1\"]\n",
    "    dW2 = grads[\"dW2\"]\n",
    "    db2 = grads[\"db2\"]   \n",
    "    \n",
    "    # YOUR CODE ENDS HERE\n",
    "    \n",
    "    # Update rule for each parameter\n",
    "    #(≈ 4 lines of code)\n",
    "    # W1 = ...\n",
    "    # b1 = ...\n",
    "    # W2 = ...\n",
    "    # b2 = ...\n",
    "    # YOUR CODE STARTS HERE\n",
    "    W1 = W1 - learning_rate * dW1\n",
    "    b1 = b1 - learning_rate * db1\n",
    "    W2 = W2 - learning_rate * dW2\n",
    "    b2 = b2 - learning_rate * db2\n",
    "    \n",
    "    # YOUR CODE ENDS HERE\n",
    "    \n",
    "    parameters = {\"W1\": W1,\n",
    "                  \"b1\": b1,\n",
    "                  \"W2\": W2,\n",
    "                  \"b2\": b2}\n",
    "    \n",
    "    return parameters"
   ]
  },
  {
   "cell_type": "markdown",
   "id": "4ce7ac08",
   "metadata": {},
   "source": [
    "Complete previous cell and run the following cell to answer exercise 7 on CANVAS."
   ]
  },
  {
   "cell_type": "code",
   "execution_count": 19,
   "id": "5823bfaa",
   "metadata": {
    "scrolled": true
   },
   "outputs": [
    {
     "name": "stdout",
     "output_type": "stream",
     "text": [
      "W1 = [[-0.00643025  0.01936718]\n",
      " [-0.02410458  0.03978052]\n",
      " [-0.01653973 -0.02096177]\n",
      " [ 0.01046864 -0.05990141]]\n",
      "b1 = [[-1.02420756e-06]\n",
      " [ 1.27373948e-05]\n",
      " [ 8.32996807e-07]\n",
      " [-3.20136836e-06]]\n",
      "W2 = [[-0.01041081 -0.04463285  0.01758031  0.04747113]]\n",
      "b2 = [[0.00010457]]\n"
     ]
    }
   ],
   "source": [
    "parameters, grads = update_parameters_test_case()\n",
    "parameters = update_parameters(parameters, grads, learning_rate=1.2)\n",
    "\n",
    "print(\"W1 = \" + str(parameters[\"W1\"]))\n",
    "print(\"b1 = \" + str(parameters[\"b1\"]))\n",
    "print(\"W2 = \" + str(parameters[\"W2\"]))\n",
    "print(\"b2 = \" + str(parameters[\"b2\"]))"
   ]
  },
  {
   "cell_type": "markdown",
   "id": "5b204851",
   "metadata": {},
   "source": [
    "<a name='3-7'></a>\n",
    "### 3.7 - Integration\n",
    "\n",
    "Integrate your functions in `nn_model()` \n",
    "\n",
    "Build your neural network model in `nn_model()`.\n",
    "\n",
    "**Instructions**: The neural network model has to use the previous functions in the right order."
   ]
  },
  {
   "cell_type": "code",
   "execution_count": 20,
   "id": "756d6b87",
   "metadata": {},
   "outputs": [],
   "source": [
    "#FUNCTION: nn_model\n",
    "\n",
    "def nn_model(X, Y, n_h, num_iterations = 1000, learning_rate=0.85, print_cost=True):\n",
    "    \"\"\"\n",
    "    Arguments:\n",
    "    X -- dataset of shape (2, number of examples)\n",
    "    Y -- labels of shape (1, number of examples)\n",
    "    n_h -- size of the hidden layer\n",
    "    num_iterations -- Number of iterations in gradient descent loop\n",
    "    print_cost -- if True, print the cost every 1000 iterations\n",
    "    \n",
    "    Returns:\n",
    "    parameters -- parameters learnt by the model. They can then be used to predict.\n",
    "    \"\"\"\n",
    "    \n",
    "    np.random.seed(3)\n",
    "    n_x = layer_sizes(X, Y)[0]\n",
    "    n_y = layer_sizes(X, Y)[2]\n",
    "    \n",
    "    # Initialize parameters\n",
    "    #(≈ 1 line of code)\n",
    "    # parameters = ...\n",
    "    # YOUR CODE STARTS HERE\n",
    "    parameters = initialize_parameters(n_x, n_h, n_y)    \n",
    "    # YOUR CODE ENDS HERE\n",
    "    \n",
    "    # Loop (gradient descent)\n",
    "\n",
    "    for i in range(0, num_iterations):\n",
    "         \n",
    "        #(≈ 4 lines of code)\n",
    "        # Forward propagation. Inputs: \"X, parameters\". Outputs: \"A2, cache\".\n",
    "        # A2, cache = ...\n",
    "                \n",
    "        # Cost function. Inputs: \"A2, Y\". Outputs: \"cost\".\n",
    "        # cost = ...\n",
    "         \n",
    "        # Backpropagation. Inputs: \"parameters, cache, X, Y\". Outputs: \"grads\".\n",
    "        # grads = ...\n",
    "         \n",
    "        # Gradient descent parameter update. Inputs: \"parameters, grads\". Outputs: \"parameters\".\n",
    "        # parameters = ...\n",
    "                \n",
    "        # YOUR CODE STARTS HERE\n",
    "        A2, cache = forward_propagation(X, parameters)\n",
    "        cost = compute_cost(A2, Y)\n",
    "        grads = backward_propagation(parameters, cache, X, Y)\n",
    "        parameters = update_parameters(parameters, grads, learning_rate)\n",
    "        \n",
    "        # YOUR CODE ENDS HERE\n",
    "        \n",
    "        # Print the cost every 1000 iterations\n",
    "        if print_cost and i % 1000 == 0:\n",
    "            print (\"Cost after iteration %i: %f\" %(i, cost))\n",
    "\n",
    "    return parameters"
   ]
  },
  {
   "cell_type": "markdown",
   "id": "50300d98",
   "metadata": {},
   "source": [
    "<a name='4'></a>\n",
    "## 4 - Test the Model\n",
    "\n",
    "<a name='4-1'></a>\n",
    "### 4.1 - Predict\n",
    "\n",
    "<a name='ex-8'></a>\n",
    "### Exercise 8 - predict\n",
    "\n",
    "Predict with your model by building `predict()`.\n",
    "Use forward propagation to predict results."
   ]
  },
  {
   "cell_type": "code",
   "execution_count": 21,
   "id": "ba92de58",
   "metadata": {},
   "outputs": [],
   "source": [
    "# GRADED FUNCTION: predict\n",
    "\n",
    "def predict(parameters, X):\n",
    "    \"\"\"\n",
    "    Using the learned parameters, predicts a class for each example in X\n",
    "    \n",
    "    Arguments:\n",
    "    parameters -- python dictionary containing your parameters \n",
    "    X -- input data of size (n_x, m)\n",
    "    \n",
    "    Returns\n",
    "    predictions -- vector of predictions of our model\n",
    "    \"\"\"\n",
    "    \n",
    "    \n",
    "    #(≈ 2 lines of code)\n",
    "    # A2, cache = ...\n",
    "    # predictions = ...\n",
    "    # YOUR CODE STARTS HERE\n",
    "    A2, cache = forward_propagation(X, parameters)\n",
    "    predictions = A2\n",
    "    \n",
    "    # YOUR CODE ENDS HERE\n",
    "    \n",
    "    return predictions"
   ]
  },
  {
   "cell_type": "markdown",
   "id": "ca4802d2",
   "metadata": {},
   "source": [
    "Complete the nn_model cell and previous cell and run the following cell to answer exercise 8 on CANVAS."
   ]
  },
  {
   "cell_type": "code",
   "execution_count": 22,
   "id": "95af342b",
   "metadata": {},
   "outputs": [
    {
     "name": "stdout",
     "output_type": "stream",
     "text": [
      "Predictions: [[0.50154066 0.49899566 0.50213783]]\n"
     ]
    }
   ],
   "source": [
    "parameters, t_X = predict_test_case()\n",
    "\n",
    "predictions = predict(parameters, t_X)\n",
    "print(\"Predictions: \" + str(predictions))"
   ]
  },
  {
   "cell_type": "markdown",
   "id": "66d97b58",
   "metadata": {},
   "source": [
    "<a name='4-2'></a>\n",
    "### 4.2 - Test the Model on the wastwater data \n",
    "\n",
    "It's time to run the model and see how it performs wastewater dataset. Run the following code to test your model with a single hidden layer of $n_h$ hidden units!"
   ]
  },
  {
   "cell_type": "code",
   "execution_count": 23,
   "id": "55541815",
   "metadata": {},
   "outputs": [
    {
     "name": "stdout",
     "output_type": "stream",
     "text": [
      "Train Accuracy for 20 hidden units: 92.66397492688859 %\n",
      "Test Accuracy for 20 hidden units: 90.03634685780028 %\n"
     ]
    }
   ],
   "source": [
    "#Tuning hidden layer size\n",
    "X = train_set_x_normalized\n",
    "Y = train_set_y_normalized\n",
    "learning_rate = .85\n",
    "num_iterations = 2000\n",
    "hidden_layer_sizes = [20]\n",
    "for i, n_h in enumerate(hidden_layer_sizes):\n",
    "    X = train_set_x_normalized\n",
    "    Y = train_set_y_normalized\n",
    "    parameters = nn_model(X, Y, n_h, print_cost=False)\n",
    "    Y_prediction_train = predict(parameters, X)\n",
    "    Train_accuracy=(100 - np.mean(np.abs(Y_prediction_train - train_set_y_normalized)) * 100)\n",
    "    \n",
    "    X = test_set_x_normalized\n",
    "    Y_prediction_test = predict(parameters, X)\n",
    "    Test_accuracy=(100 - np.mean(np.abs(Y_prediction_test - test_set_y_normalized)) * 100)\n",
    "    \n",
    "        \n",
    "    print (\"Train Accuracy for {} hidden units: {} %\".format(n_h, Train_accuracy))\n",
    "    print (\"Test Accuracy for {} hidden units: {} %\".format(n_h, Test_accuracy))"
   ]
  },
  {
   "cell_type": "markdown",
   "id": "a46551d9",
   "metadata": {},
   "source": [
    "In the next cell, we denormalize the prediced values of test data set and compare with real values."
   ]
  },
  {
   "cell_type": "code",
   "execution_count": 24,
   "id": "5b33f1fb",
   "metadata": {},
   "outputs": [],
   "source": [
    "#Reverse normalization\n",
    "from sklearn.preprocessing import MinMaxScaler\n",
    "import numpy as np\n",
    "\n",
    "# Reverse the normalization to get the original data\n",
    "Y_prediction_test_real_scale = scaler.inverse_transform(predict(parameters, test_set_x_normalized))"
   ]
  },
  {
   "cell_type": "markdown",
   "id": "2a7074d4",
   "metadata": {},
   "source": [
    "<a name='5'></a>\n",
    "##  5 - Results Analysis"
   ]
  },
  {
   "cell_type": "code",
   "execution_count": 26,
   "id": "0c794a3c",
   "metadata": {},
   "outputs": [
    {
     "data": {
      "image/png": "[encoded data removed]",
      "text/plain": [
       "<Figure size 640x480 with 1 Axes>"
      ]
     },
     "metadata": {},
     "output_type": "display_data"
    }
   ],
   "source": [
    "import matplotlib.pyplot as plt\n",
    "import numpy as np\n",
    "\n",
    "# Define the two vectors\n",
    "\n",
    "x = np.arange(0,8760, 1)\n",
    "y1 = test_set_y_orig    \n",
    "y2 = Y_prediction_test_real_scale.T\n",
    "\n",
    "# Plot the vectors\n",
    "plt.plot(x, y1, label='Observed')\n",
    "plt.plot(x, y2, label='Simulated')\n",
    "\n",
    "# Add a title and labels for the x and y axes\n",
    "plt.title('Plot of Observed vs Simulated Vectors')\n",
    "plt.xlabel('Hours of the year')\n",
    "plt.ylabel('Temperature C')\n",
    "\n",
    "# Set the y-axis limits\n",
    "plt.ylim()\n",
    "\n",
    "# Add a legend\n",
    "plt.legend()\n",
    "\n",
    "# Display the plot\n",
    "plt.show()"
   ]
  },
  {
   "cell_type": "markdown",
   "id": "f842715c",
   "metadata": {},
   "source": [
    "<a name='6'></a>\n",
    "##  6 - Rferences\n",
    "- Speech and Language Processing. Daniel Jurafsky & James H. Martin. Draft of January 7, 2023.Chapter 5, Logistic Regression\n",
    "- https://www.deeplearning.ai/\n",
    "- http://www.wildml.com/2015/09/implementing-a-neural-network-from-scratch/"
   ]
  },
  {
   "cell_type": "code",
   "execution_count": null,
   "id": "9926e2af",
   "metadata": {},
   "outputs": [],
   "source": []
  }
 ],
 "metadata": {
  "kernelspec": {
   "display_name": "AI_course-env",
   "language": "python",
   "name": "python3"
  },
  "language_info": {
   "codemirror_mode": {
    "name": "ipython",
    "version": 3
   },
   "file_extension": ".py",
   "mimetype": "text/x-python",
   "name": "python",
   "nbconvert_exporter": "python",
   "pygments_lexer": "ipython3",
   "version": "3.10.18"
  }
 },
 "nbformat": 4,
 "nbformat_minor": 5
}
