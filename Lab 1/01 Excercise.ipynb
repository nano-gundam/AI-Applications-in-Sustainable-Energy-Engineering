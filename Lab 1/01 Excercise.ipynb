{
 "cells": [
  {
   "cell_type": "markdown",
   "id": "70443d25",
   "metadata": {},
   "source": [
    "## Exercise 01.1\n",
    "\n",
    "Degrees Fahrenheit ($T_F$) are converted to degrees Celsius ($T_c$) using the formula:\n",
    "\n",
    "$$\n",
    "T_c = 5(T_f - 32)/9\n",
    "$$\n",
    "\n",
    "Write a program to convert 78 degrees Fahrenheit to degrees Celsius and print the result.\n",
    "Write your program such that you can easily change the temperature in Fahrenheit that you are converting from.\n",
    "\n",
    "Use the variable name `T_c` for the temperature in degrees Celsius."
   ]
  },
  {
   "cell_type": "code",
   "execution_count": 1,
   "id": "e34b50c5",
   "metadata": {},
   "outputs": [
    {
     "name": "stdout",
     "output_type": "stream",
     "text": [
      "25.555555555555557\n"
     ]
    }
   ],
   "source": [
    "T_f = 78\n",
    "T_c=5*(T_f-32)/9\n",
    "print(T_c)"
   ]
  },
  {
   "cell_type": "code",
   "execution_count": 2,
   "id": "163cce09",
   "metadata": {},
   "outputs": [],
   "source": [
    "assert round(T_c - 25.55555555555555, 10) == 0.0"
   ]
  },
  {
   "cell_type": "markdown",
   "id": "b45cff39",
   "metadata": {},
   "source": [
    "## Exercise 01.2\n",
    "\n",
    "You have been tasked with developing a mortgage affordability test tool. A component is to compute the monthly \n",
    "interest payments for a range of scenarios.\n",
    "\n",
    "Interest on a particular mortgage is charged at fixed rate above the Bank of England (BoE) 'official Bank Rate'. \n",
    "Interest is computed per annum, and interest payments spread equally over each month of the year.\n",
    "Write a program that computes the interest payable each month, with variables for:\n",
    "\n",
    "1. Loan principal (amount borrowed)\n",
    "1. Official Bank Rate (percentage, expressed per annum)\n",
    "1. Rate over the official Bank Rate (percentage, expressed per annum)\n",
    "\n",
    "Test your program with a loan principal of £150,000, BoE rate of 0.5%, and rate over the \n",
    "BoE rate of 1.49%. Use the variable name `interest` for the monthly interest amount."
   ]
  },
  {
   "cell_type": "code",
   "execution_count": null,
   "id": "07754490",
   "metadata": {},
   "outputs": [],
   "source": [
    "# Assign data to variables\n",
    "principal = 150000\n",
    "\n",
    "# YOUR CODE HERE\n",
    "BoE = 0.005\n",
    "Bank = BoE + 0.0149\n",
    "interest = (principal*Bank)/12\n",
    "print(interest)"
   ]
  },
  {
   "cell_type": "code",
   "execution_count": null,
   "id": "89fda3a9",
   "metadata": {},
   "outputs": [],
   "source": [
    "assert round(interest - 248.75, 10) == 0.0"
   ]
  },
  {
   "cell_type": "markdown",
   "id": "ec857cda",
   "metadata": {},
   "source": [
    "## Exercise 01.3 (if-else)\n",
    "\n",
    "Consider the following assessment criteria which map a score out of 100 to an \n",
    "assessment grade:\n",
    "\n",
    "| Grade            | Raw score  (/100)      |\n",
    "| ---------------- | ---------------------- |\n",
    "| Excellent        | $\\ge 82$               |\n",
    "| Very good        | $\\ge 76.5$ and $< 82$  |\n",
    "| Good             | $\\ge 66$ and $< 76.5$  |\n",
    "| Need improvement | $\\ge 45$ and $< 66$    |\n",
    "| Did you try?     | $< 45$                 |\n",
    "\n",
    "Write a program that, given an a score, prints the appropriate grade. Print an error message if the input score is greater than 100 or less than zero."
   ]
  },
  {
   "cell_type": "code",
   "execution_count": null,
   "id": "dc9ebd45",
   "metadata": {},
   "outputs": [],
   "source": [
    "# YOUR CODE HERE\n",
    "score = 60\n",
    "if score > 100:\n",
    "    print(\"The input score is wrong\")\n",
    "elif score <100 and score >= 82:\n",
    "    print(\"Excellenet\")\n",
    "elif score < 82 and score >= 76.5:\n",
    "    print(\"Very Good\")\n",
    "elif score < 76.5 and score >= 66:\n",
    "    print(\"Good\")\n",
    "elif score < 66 and score >= 45:\n",
    "    print(\"Need Improvement\")\n",
    "else:\n",
    "    print(\"Did you try?\")\n",
    "    \n",
    "#raise NotImplementedError()"
   ]
  },
  {
   "cell_type": "markdown",
   "id": "00dd27d7",
   "metadata": {},
   "source": [
    "## Exercise 01.4 (bisection)\n",
    "\n",
    "Bisection is an iterative method for finding approximate roots of a function. Say we know that the function $f(x)$ has one root between $x_{0}$ and $x_{1}$ ($x_{0} < x_{1}$). We then:\n",
    "\n",
    "- Evaluate $f$ at the midpoint $x_{\\rm mid} = (x_0 + x_1)/2$, i.e. compute\n",
    "   $f_{\\rm mid} = f(x_{\\rm mid})$\n",
    "- Evaluate $f(x_0) \\cdot f(x_{\\rm mid})$\n",
    "\n",
    "  - If $f(x_0) \\cdot f(x_{\\rm mid}) < 0$: \n",
    "\n",
    "    $f$ must change sign somewhere between $x_0$ and $x_{\\rm mid}$, hence the root must lie between \n",
    "    $x_0$ and $x_{\\rm mid}$, so set $x_1 = x_{\\rm mid}$.\n",
    "   \n",
    "  - Else\n",
    "\n",
    "    $f$ must change sign somewhere between $x_{\\rm mid}$ and $x_1$, so set\n",
    "    $x_0 = x_{\\rm mid}$.\n",
    "\n",
    "The above steps can be repeated a specified number of times, or until $|f_{\\rm mid}|$\n",
    "is below a tolerance, with $x_{\\rm mid}$ being the approximate root.\n",
    "\n",
    "\n",
    "### Task\n",
    "\n",
    "The function\n",
    "\n",
    "$$\n",
    "f(x) = x^3 - 6x^2 + 4x + 12\n",
    "$$\n",
    "\n",
    "has one root somewhere between $x_0 = 3$ and $x_1 = 6$.\n",
    "\n",
    "1. Use the bisection method to find an approximate root $x_{r}$ using 15 iterations \n",
    "   (use a `for` loop).\n",
    "2. Use the bisection method to find an approximate root $x_{r}$ such that \n",
    "   $\\left| f(x_{r}) \\right| < 1 \\times 10^{-6}$ and report the number of iterations \n",
    "   required (use a `while` loop).\n",
    "\n",
    "Store the approximate root using the variable `x_mid`, and store $f(x_{\\rm mid})$ using the variable `f`.\n",
    "\n",
    "*Hint:* Use  `abs` to compute the absolute value of a number, e.g. `y = abs(x)` assigns the absolute value of `x` to `y`. "
   ]
  },
  {
   "cell_type": "markdown",
   "id": "04878fc5",
   "metadata": {},
   "source": [
    "#### (1) Using a `for` loop."
   ]
  },
  {
   "cell_type": "code",
   "execution_count": null,
   "id": "f31d84fc",
   "metadata": {},
   "outputs": [],
   "source": [
    "# Initial end points\n",
    "x0 = 3.0\n",
    "x1 = 6.0\n",
    "\n",
    "# Use 15 iterations\n",
    "for n in range(15):\n",
    "    # Compute midpoint\n",
    "    x_mid = (x0 + x1)/2\n",
    "\n",
    "    # Evaluate function at left end-point and at midpoint\n",
    "    f0 = x0**3 - 6*x0**2 + 4*x0 + 12\n",
    "    f = x_mid**3 - 6*x_mid**2 + 4*x_mid + 12\n",
    "    \n",
    "    # YOUR CODE HERE\n",
    "    #raise NotImplementedError()\n",
    "    if f0*f < 0:\n",
    "        x1 = x_mid\n",
    "    else:\n",
    "        x0 = x_mid\n",
    "        \n",
    "\n",
    "    print(n, x_mid, f)"
   ]
  },
  {
   "cell_type": "code",
   "execution_count": null,
   "id": "c0b8632c",
   "metadata": {},
   "outputs": [],
   "source": [
    "assert round(x_mid - 4.534149169921875, 10) == 0.0\n",
    "assert abs(f) < 0.0009"
   ]
  },
  {
   "cell_type": "markdown",
   "id": "c2e98175",
   "metadata": {},
   "source": [
    "#### (2) Using a `while` loop"
   ]
  },
  {
   "cell_type": "code",
   "execution_count": null,
   "id": "48d351c1",
   "metadata": {},
   "outputs": [],
   "source": [
    "# Initial end points\n",
    "x0 = 3.0\n",
    "x1 = 6.0\n",
    "\n",
    "tol = 1.0e-6\n",
    "error = tol + 1.0\n",
    "\n",
    "# Iterate until tolerance is met\n",
    "counter = 0\n",
    "while error > tol:\n",
    "    # YOUR CODE HERE\n",
    "    #raise NotImplementedError()\n",
    "    \n",
    "    \n",
    "    \n",
    "    x_mid = (x0 + x1)/2\n",
    "\n",
    "    # Evaluate function at left end-point and at midpoint\n",
    "    f0 = x0**3 - 6*x0**2 + 4*x0 + 12\n",
    "    f = x_mid**3 - 6*x_mid**2 + 4*x_mid + 12\n",
    "    \n",
    "    if f0*f < 0:\n",
    "        x1 = x_mid\n",
    "    else:\n",
    "        x0 = x_mid\n",
    "        \n",
    "    error = abs (f)\n",
    "    counter += 1\n",
    "    \n",
    "    \n",
    "    \n",
    "    \n",
    "\n",
    "    # Guard against an infinite loop\n",
    "    if counter > 1000:\n",
    "        print(\"Oops, iteration count is very large. Breaking out of while loop.\")\n",
    "        break\n",
    "    \n",
    "    print(counter, x_mid, error)"
   ]
  },
  {
   "cell_type": "code",
   "execution_count": null,
   "id": "559cc296",
   "metadata": {},
   "outputs": [],
   "source": [
    "assert counter == 23\n",
    "assert abs(f) < 1.0e-6"
   ]
  },
  {
   "cell_type": "markdown",
   "id": "90c2d2c5",
   "metadata": {},
   "source": [
    "## Exercise 02.3 (series expansion)\n",
    "\n",
    "The power series expansion for the sine function is: \n",
    "\n",
    "$$\n",
    "\\sin(x) = \\sum_{n = 0}^{\\infty} (-1)^n \\frac{x^{2n +1}}{(2n+1)!}\n",
    "$$\n",
    "\n",
    "(See mathematics data book for a less compact version; this compact version is preferred here as it is simpler to program.)\n",
    "\n",
    "1. Using a `for` statement, approximate $\\sin(3\\pi/2)$ using 15 terms in the series expansion and report the absolute error.\n",
    "\n",
    "1. Using a `while` statement, compute how many terms in the series are required to approximate $\\sin(3\\pi/2)$ to within $1 \\times 10^{-8}$. \n",
    "\n",
    "Store the absolute value of the error in the variable `error`.\n",
    "\n",
    "*Note:* Calculators and computers use iterative or series expansions to compute trigonometric functions, similar to the one above (although they use more efficient formulations than the above series).\n",
    "\n",
    "### Hints\n",
    "\n",
    "To compute the factorial and to get a good approximation of $\\pi$, use the Python `math` module:\n",
    "```python\n",
    "import math\n",
    "nfact = math.factorial(10)\n",
    "pi = math.pi\n",
    "```\n",
    "You only need '`import math`' once at the top of your program. Standard modules, like `math`, will be explained in a later. If you want to test for angles for which sine is not simple, you can use \n",
    "```python\n",
    "a = 1.3\n",
    "s = math.sin(a)\n",
    "```    \n",
    "to get an accurate computation of sine to check the error."
   ]
  },
  {
   "cell_type": "markdown",
   "id": "ccac332f",
   "metadata": {},
   "source": [
    "#### (1) Using a `for` loop"
   ]
  },
  {
   "cell_type": "code",
   "execution_count": null,
   "id": "00c69eda",
   "metadata": {},
   "outputs": [],
   "source": [
    "# Import the math module to access math.sin and math.factorial\n",
    "import math\n",
    "\n",
    "# Value at which to approximate sine\n",
    "x = 1.5*math.pi\n",
    "\n",
    "# Initialise approximation of sine\n",
    "approx_sin = 0.0\n",
    "\n",
    "# YOUR CODE HERE\n",
    "#raise NotImplementedError()\n",
    "for n in range(15):\n",
    "    approx_sin = approx_sin + ((-1)**n)*((x**(2*n+1))/(math.factorial(2*n+1)))\n",
    "    error= abs(math.sin(x)-approx_sin)\n",
    "    print(\"The error is:\")\n",
    "    print(error)\n",
    "\n",
    "#error= abs(math.sin(x)-approx_sin)\n",
    "    \n",
    "    \n",
    "print(\"The final error is:\")\n",
    "print(error)"
   ]
  },
  {
   "cell_type": "code",
   "execution_count": null,
   "id": "eeab85c9",
   "metadata": {},
   "outputs": [],
   "source": [
    "assert error < 1.0e-12"
   ]
  },
  {
   "cell_type": "markdown",
   "id": "16ef7c6b",
   "metadata": {},
   "source": [
    "#### (2) Using a `while` loop\n",
    "\n",
    "*Remember to guard against infinite loops.*"
   ]
  },
  {
   "cell_type": "code",
   "execution_count": null,
   "id": "057a2dc2",
   "metadata": {},
   "outputs": [],
   "source": [
    "# Import the math module to access math.sin and math.factorial\n",
    "import math\n",
    "\n",
    "# Value at which to approximate sine\n",
    "x = 1.5*math.pi\n",
    "\n",
    "# Tolerance and initial error (this just needs to be larger than tol)\n",
    "tol = 1.0e-8\n",
    "error = tol + 1.0\n",
    "\n",
    "# Intialise approximation of sine\n",
    "approx_sin = 0.0\n",
    "\n",
    "# Initialise counter\n",
    "n = 0\n",
    "\n",
    "# Loop until error satisfies tolerance, with a check to avoid \n",
    "# an infinite loop\n",
    "while error > tol and n < 1000:\n",
    "    \n",
    "    # YOUR CODE HERE\n",
    "    #raise NotImplementedError()\n",
    "    approx_sin = approx_sin + ((-1)**n)*((x**(2*n+1))/(math.factorial(2*n+1)))\n",
    "\n",
    "    error= abs(math.sin(x)-approx_sin)\n",
    "    \n",
    "    \n",
    "    \n",
    "    # Increment counter\n",
    "    n += 1    \n",
    "    \n",
    "    \n",
    "print(\"The error is:\")\n",
    "print(error)\n",
    "\n",
    "print(\"Number of terms in series:\")\n",
    "print(n)"
   ]
  },
  {
   "cell_type": "code",
   "execution_count": null,
   "id": "49e72593",
   "metadata": {},
   "outputs": [],
   "source": [
    "assert error <= 1.0e-8"
   ]
  },
  {
   "cell_type": "markdown",
   "id": "7450bd5c",
   "metadata": {},
   "source": [
    "## References\n",
    "\n",
    "- EH2745/FEN3251 Computer Applications in Power Systems presented by Lars Nordström at KTH. https://canvas.kth.se/courses/31133\n",
    "\n",
    "- John Hunt, 2019, A Beginners Guide to Python 3 Programming, Springer Cham, https://doi.org/10.1007/978-3-030-20290-3 "
   ]
  },
  {
   "cell_type": "code",
   "execution_count": null,
   "id": "116e8315",
   "metadata": {},
   "outputs": [],
   "source": []
  }
 ],
 "metadata": {
  "kernelspec": {
   "display_name": "Python 3",
   "language": "python",
   "name": "python3"
  },
  "language_info": {
   "codemirror_mode": {
    "name": "ipython",
    "version": 3
   },
   "file_extension": ".py",
   "mimetype": "text/x-python",
   "name": "python",
   "nbconvert_exporter": "python",
   "pygments_lexer": "ipython3",
   "version": "3.13.6"
  }
 },
 "nbformat": 4,
 "nbformat_minor": 5
}
