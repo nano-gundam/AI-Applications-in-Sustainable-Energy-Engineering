{
 "cells": [
  {
   "cell_type": "markdown",
   "id": "4a094a85",
   "metadata": {},
   "source": [
    "## Exercise 02.1 (simple function)\n",
    "\n",
    "Write a function called `is_odd` which takes an integer as an argument and returns `True` if the argument is odd, and otherwise returns `False`. Test your function for several values."
   ]
  },
  {
   "cell_type": "code",
   "execution_count": 1,
   "id": "175e93f9",
   "metadata": {},
   "outputs": [
    {
     "data": {
      "text/plain": [
       "False"
      ]
     },
     "execution_count": 1,
     "metadata": {},
     "output_type": "execute_result"
    }
   ],
   "source": [
    "def is_odd(x):\n",
    "    # YOUR CODE HERE\n",
    "    #raise NotImplementedError()\n",
    "    a=x%2\n",
    "    if a==0:\n",
    "        return False\n",
    "    else:\n",
    "        return True\n",
    "is_odd(50)"
   ]
  },
  {
   "cell_type": "code",
   "execution_count": 2,
   "id": "da907a65",
   "metadata": {},
   "outputs": [],
   "source": [
    "assert is_odd(0) == False\n",
    "assert is_odd(101) == True\n",
    "assert is_odd(982) == False \n",
    "assert is_odd(-5) == True\n",
    "assert is_odd(-8) == False"
   ]
  },
  {
   "cell_type": "markdown",
   "id": "84ab0ff9",
   "metadata": {},
   "source": [
    "## Exercise 02.2 (functions and default arguments)\n",
    "\n",
    "Write a single function named `magnitude` that takes each component of a vector of length 2 or 3 and returns the magnitude.\n",
    "Use default arguments to handle vectors of length 2 or 3 with the same code. Test your function for correctness against hand calculations for a selection of values."
   ]
  },
  {
   "cell_type": "code",
   "execution_count": 3,
   "id": "39e5f2ee",
   "metadata": {},
   "outputs": [
    {
     "name": "stdout",
     "output_type": "stream",
     "text": [
      "10.04987562112089\n"
     ]
    }
   ],
   "source": [
    "import math\n",
    "# YOUR CODE HERE\n",
    "#raise NotImplementedError()\n",
    "def magnitude(x,y,z=0):\n",
    "    return math.sqrt(x**2+y**2+z**2)\n",
    "    \n",
    "print(magnitude(2,4,9))"
   ]
  },
  {
   "cell_type": "code",
   "execution_count": 4,
   "id": "6a874639",
   "metadata": {},
   "outputs": [],
   "source": [
    "assert round(magnitude(3, 4) - 5.0, 10) == 0.0\n",
    "assert round(magnitude(4, 3) - 5.0, 10) == 0.0\n",
    "assert round(magnitude(4, 3, 0.0)- 5.0, 10) == 0.0\n",
    "assert round(magnitude(4, 0.0, 3.0) - 5.0, 10) == 0.0\n",
    "assert round(magnitude(3, 4, 4) - 6.403124237, 8) == 0.0"
   ]
  },
  {
   "cell_type": "markdown",
   "id": "b69dca3e",
   "metadata": {},
   "source": [
    "## Exercise 02.3 (functions)\n",
    "\n",
    "Given the coordinates of the vertices of a triangle, $(x_0, y_0)$, $(x_1, y_1)$ and $(x_2, y_2)$, the area $A$ of the triangle is given by:\n",
    "$$\n",
    "A = \\left| \\frac{x_0(y_1  - y_2) + x_1(y_2 - y_0) + x_2(y_0 - y_1)}{2} \\right|\n",
    "$$\n",
    "Write a function named `area` that computes the area of a triangle given the coordinates of the vertices.\n",
    "The order of the function arguments must be (`x0, y0, x1, y1, x2, y2)`.\n",
    "\n",
    "Test the output of your function against some known solutions."
   ]
  },
  {
   "cell_type": "code",
   "execution_count": 5,
   "id": "ea807d7b",
   "metadata": {},
   "outputs": [],
   "source": [
    "# YOUR CODE HERE\n",
    "#raise NotImplementedError()\n",
    "def area(x0, y0, x1, y1, x2, y2):\n",
    "    return abs(((x0*(y1-y2))+(x1*(y2-y0))+(x2*(y0-y1)))/2)"
   ]
  },
  {
   "cell_type": "code",
   "execution_count": 6,
   "id": "730e898e",
   "metadata": {},
   "outputs": [],
   "source": [
    "x0, y0 = 0.0, 0.0\n",
    "x1, y1 = 0.0, 2.0\n",
    "x2, y2 = 3.0, 0.0\n",
    "A = area(x0, y0, x1, y1, x2, y2)\n",
    "assert round(A - 3.0, 10) == 0.0"
   ]
  },
  {
   "cell_type": "markdown",
   "id": "bac4c264",
   "metadata": {},
   "source": [
    "## Exercise 02.4 (recursion)\n",
    "\n",
    "The factorial of a non-negative integer $n$ is expressed recursively by:\n",
    "$$\n",
    "n! = \n",
    "\\begin{cases}\n",
    "1 & n = 0 \\\\\n",
    "(n - 1)! \\,n & n > 0\n",
    "\\end{cases}\n",
    "$$\n",
    "\n",
    "Develop a function named `factorial` for computing the factorial using recursion.\n",
    "Test your function against the `math.factorial` function, e.g."
   ]
  },
  {
   "cell_type": "code",
   "execution_count": 7,
   "id": "21ff0af7",
   "metadata": {},
   "outputs": [
    {
     "name": "stdout",
     "output_type": "stream",
     "text": [
      "Reference factorial: 120\n"
     ]
    }
   ],
   "source": [
    "import math\n",
    "print(\"Reference factorial:\", math.factorial(5))"
   ]
  },
  {
   "cell_type": "code",
   "execution_count": 8,
   "id": "f1e4507a",
   "metadata": {},
   "outputs": [
    {
     "name": "stdout",
     "output_type": "stream",
     "text": [
      "Factorial of 5: 120\n",
      "Reference value of factorial of 5: 120\n"
     ]
    }
   ],
   "source": [
    "# YOUR CODE HERE\n",
    "#raise NotImplementedError()\n",
    "def factorial(n):\n",
    "    if n ==0:\n",
    "        return 1\n",
    "    else:\n",
    "        return n*factorial(n-1)\n",
    "\n",
    "print(\"Factorial of 5:\", factorial(5))\n",
    "\n",
    "import math\n",
    "print(\"Reference value of factorial of 5:\", math.factorial(5))"
   ]
  },
  {
   "cell_type": "code",
   "execution_count": 9,
   "id": "f49649b0",
   "metadata": {},
   "outputs": [],
   "source": [
    "assert factorial(0) == 1\n",
    "assert factorial(1) == 1\n",
    "assert factorial(2) == 2\n",
    "assert factorial(5) == 120\n",
    "\n",
    "import math\n",
    "assert factorial(32) == math.factorial(32)"
   ]
  },
  {
   "cell_type": "markdown",
   "id": "a2154e7d",
   "metadata": {},
   "source": [
    "## Exercise 02.5 (functions and passing functions as arguments)\n",
    "\n",
    "Restructure your program from the bisection problem in Exercise 02 to \n",
    "\n",
    "- Use a Python function to evaluate the mathematical function $f$ that we want to find the root of; \n",
    "\n",
    "and then\n",
    "\n",
    "- Encapsulate the bisection algorithm inside a Python function, which takes as arguments:\n",
    "  - the function we want to find the roots of\n",
    "  - the points $x_{0}$ and $x_{1}$ between which we want to search for a root\n",
    "  - the tolerance for exiting the bisection algorithm (exit when $|f(x)| < \\text{tol}$)\n",
    "  - maximum number of iterations (the algorithm should exit once this limit is reached)\n",
    "\n",
    "For the first step, use a function for evaluating $f$, e.g.:\n",
    "```python\n",
    "def f(x):\n",
    "    # Put body of the function f(x) here, and return the function value\n",
    "```           \n",
    "For the second step, encapsulate the bisection algorithm in a function:\n",
    "```python\n",
    "def compute_root(f, x0, x1, tol, max_it):\n",
    "    # Implement bisection algorithm here, and return when tolerance is satisfied or\n",
    "    # number of iterations exceeds max_it\n",
    "\n",
    "    # Return the approximate root, value of f(x) and the number of iterations\n",
    "    return x, f, num_it\n",
    "\n",
    "# Compute approximate root of the function f\n",
    "x, f_x, num_it = compute_root(f, x0=3, x1=6, tol=1.0e-6, max_it=1000)\n",
    "```\n",
    "\n",
    "Try testing your program for a different function. A quadratic function, whose roots you can find analytically, would be a good test case.\n",
    "\n",
    "\n",
    "### Optional extension \n",
    "\n",
    "Use recursion to write a `compute_root` function that *does not* require a `for` or `while` loop."
   ]
  },
  {
   "cell_type": "markdown",
   "id": "7ffb2b74",
   "metadata": {},
   "source": [
    "### Solution\n",
    "\n",
    "Define the function for computing $f(x)$:"
   ]
  },
  {
   "cell_type": "code",
   "execution_count": 10,
   "id": "52a3fd89",
   "metadata": {},
   "outputs": [],
   "source": [
    "def my_f(x):\n",
    "    \"Evaluate polynomial function\"\n",
    "    return x**3 - 6*x**2 + 4*x + 12"
   ]
  },
  {
   "cell_type": "markdown",
   "id": "9b9bc52a",
   "metadata": {},
   "source": [
    "Create the function that performs the bisection:"
   ]
  },
  {
   "cell_type": "code",
   "execution_count": 11,
   "id": "d1a361ee",
   "metadata": {},
   "outputs": [],
   "source": [
    "def compute_root(f, x0, x1, tol, max_it):\n",
    "    \"Compute roots of a function using bisection\"\n",
    "    # YOUR CODE HERE\n",
    "    #raise NotImplementedError()\n",
    "    error = tol + 1.0\n",
    "    counter = 0\n",
    "    while error > tol:\n",
    "    # YOUR CODE HERE\n",
    "    #raise NotImplementedError()\n",
    "    \n",
    "    \n",
    "    \n",
    "        x_mid = (x0 + x1)/2\n",
    "\n",
    "        # Evaluate function at left end-point and at midpoint\n",
    "        f0 = my_f(x0)\n",
    "        f =  my_f(x_mid)\n",
    "    \n",
    "        if f0*f < 0:\n",
    "            x1 = x_mid\n",
    "        else:\n",
    "            x0 = x_mid\n",
    "        \n",
    "        error = abs (f)\n",
    "        counter += 1\n",
    "    \n",
    "    \n",
    "    \n",
    "    \n",
    "\n",
    "        # Guard against an infinite loop\n",
    "        if counter > max_it:\n",
    "            print(\"Oops, iteration count is very large. Breaking out of while loop.\")\n",
    "            break\n",
    "    \n",
    "    \n",
    "    return x_mid, f, counter"
   ]
  },
  {
   "cell_type": "code",
   "execution_count": 12,
   "id": "2e506e36",
   "metadata": {},
   "outputs": [],
   "source": [
    "x, f, num_it = compute_root(my_f, x0=3, x1=6, tol=1.0e-6, max_it=1000)\n",
    "assert round(x - 4.534070134162903, 10) == 0.0"
   ]
  },
  {
   "cell_type": "markdown",
   "id": "2a2b2766",
   "metadata": {},
   "source": [
    "## Exercise 02.6 (selecting and passing data structures)\n",
    "\n",
    "The task in Exercise 04 for computing the area of a triangle involved a function with six arguments ($x$ and $y$ components of each vertex). With six arguments, the likelihood of a user passing arguments in the wrong order is high. \n",
    "\n",
    "Use an appropriate data structure, e.g. a `list`, `tuple`, `dict`, etc,  to develop a new version of the function with a simpler interface (the interface is the arguments that are passed to the function). Add appropriate checks inside your function to validate the input data."
   ]
  },
  {
   "cell_type": "code",
   "execution_count": 13,
   "id": "23e2b340",
   "metadata": {},
   "outputs": [
    {
     "name": "stdout",
     "output_type": "stream",
     "text": [
      "3.0\n"
     ]
    }
   ],
   "source": [
    "# YOUR CODE HERE\n",
    "#raise NotImplementedError()\n",
    "def area(v0,v1,v2):\n",
    "    return abs(((v0[0]*(v1[1]-v2[1]))+(v1[0]*(v2[1]-v0[1]))+(v2[0]*(v0[1]-v1[1])))/2)\n",
    "\n",
    "v0=(0.0, 0.0)\n",
    "v1=(0.0, 2.0)\n",
    "v2=(3.0, 0.0)\n",
    "\n",
    "print(area(v0,v1,v2))"
   ]
  },
  {
   "cell_type": "markdown",
   "id": "fd6311f4",
   "metadata": {},
   "source": [
    "## Exercise 02.7 (selecting data structures)\n",
    "\n",
    "For a simple (non-intersecting) polygon with $n$ vertices, $(x_0, y_0)$, $(x_1, y_1)$, . . , $(x_{n-1}, y_{n-1})$, the area $A$ is given by\n",
    "$$\n",
    "A = \\left| \\frac{1}{2} \\sum_{i=0}^{n-1} \\left(x_{i} y _{i+1} - x_{i+1} y_{i} \\right) \\right|\n",
    "$$\n",
    "and where $(x_n, y_n) = (x_0, y_0)$. The vertices should be ordered as you move around the polygon.\n",
    "\n",
    "Write a function that computes the area of a simple polygon with an arbitrary number of vertices. Test your function for some simple shapes. Pay careful attention to the range of any loops."
   ]
  },
  {
   "cell_type": "code",
   "execution_count": 14,
   "id": "ff9b2c57",
   "metadata": {},
   "outputs": [
    {
     "name": "stdout",
     "output_type": "stream",
     "text": [
      "3.0\n",
      "(3.0, 0.0)\n"
     ]
    }
   ],
   "source": [
    "# YOUR CODE HERE\n",
    "#raise NotImplementedError()\n",
    "def area(vertices):\n",
    "    vertices.append(vertices[0])\n",
    "    A=0\n",
    "    for n in range(len(vertices)-1):\n",
    "        A +=abs(vertices[n][0]*vertices[n+1][1]-vertices[n+1][0]*vertices[n][1])\n",
    "    return A/2        \n",
    "\n",
    "vertices=[(0.0, 0.0),(0.0, 2.0),(3.0, 0.0)]\n",
    "print(area(vertices))\n",
    "print((vertices[2]))"
   ]
  },
  {
   "cell_type": "markdown",
   "id": "05635873",
   "metadata": {},
   "source": [
    "## Exercise 02.7 (indexing)\n",
    "\n",
    "Write a function that uses list indexing to add two vectors of arbitrary length, and returns the new vector. Include a check that the vector sizes match, and print a warning message if there is a size mismatch. The more error information you provide, the easier it would be for someone using your function to debug their code.\n",
    "\n",
    "Add some tests of your code.\n",
    "\n",
    "#### Hint: You can create a list of zeros of length `n` by\n",
    "\n",
    "    z = [0]*n"
   ]
  },
  {
   "cell_type": "code",
   "execution_count": 15,
   "id": "c40c8e7d",
   "metadata": {},
   "outputs": [
    {
     "name": "stdout",
     "output_type": "stream",
     "text": [
      "There is a size mismatch\n",
      "[3, 5, 7, 7, 9, 11, 4, 4, 4]\n"
     ]
    }
   ],
   "source": [
    "def sum_vector(x, y):\n",
    "    \"Return sum of two vectors\"\n",
    "    # YOUR CODE HERE\n",
    "    #raise NotImplementedError()\n",
    "    L_x=len(x)\n",
    "    L_y=len(y)\n",
    "    if L_x==L_y:\n",
    "        sum=[0]*L_x\n",
    "        for i in range(L_x):\n",
    "            sum[i]=(x[i]+y[i])\n",
    "    elif L_x>L_y:\n",
    "        print(\"There is a size mismatch\")\n",
    "        sum=[0]*L_x\n",
    "        y=y+[0]*(L_x-L_y)\n",
    "        for i in range(L_x):\n",
    "            sum[i]=(x[i]+y[i])\n",
    "    else:\n",
    "        print(\"There is a size mismatch\")\n",
    "        sum=[0]*L_y\n",
    "        x=x+[0]*(L_y-L_x)\n",
    "        \n",
    "        for i in range(L_y):\n",
    "            sum[i]=(x[i]+y[i])\n",
    "    return sum\n",
    "\n",
    "x=[1,2,3,2,3,3,4,4,4]\n",
    "y=[2,3,4,5,6,8]\n",
    "\n",
    "print(sum_vector(x, y))"
   ]
  },
  {
   "cell_type": "code",
   "execution_count": 16,
   "id": "2cdbdb20",
   "metadata": {},
   "outputs": [],
   "source": [
    "a = [0, 4.3, -5, 7]\n",
    "b = [-2, 7, -15, 1]\n",
    "c = sum_vector(a, b)\n",
    "assert c == [-2, 11.3, -20, 8]"
   ]
  },
  {
   "cell_type": "markdown",
   "id": "43e7276e",
   "metadata": {},
   "source": [
    "## Exercise 02.8 (dictionary)\n",
    "\n",
    "Make a dictionary with for the name, age and city of John, 25 years old from New York. "
   ]
  },
  {
   "cell_type": "code",
   "execution_count": 17,
   "id": "a7e96090",
   "metadata": {},
   "outputs": [
    {
     "name": "stdout",
     "output_type": "stream",
     "text": [
      "The 'age' key exists in the dictionary.\n"
     ]
    }
   ],
   "source": [
    "my_dict = {'name': 'John', 'age': 25, 'city': 'New York'}\n",
    "\n",
    "# Check if 'age' key exists\n",
    "if 'age' in my_dict:\n",
    "    print(\"The 'age' key exists in the dictionary.\")\n",
    "else:\n",
    "    print(\"The 'age' key does not exist in the dictionary.\")"
   ]
  },
  {
   "cell_type": "markdown",
   "id": "1d20b891",
   "metadata": {},
   "source": [
    "## References\n",
    "\n",
    "- EH2745/FEN3251 Computer Applications in Power Systems presented by Lars Nordström at KTH. https://canvas.kth.se/courses/31133\n",
    "\n",
    "- John Hunt, 2019, A Beginners Guide to Python 3 Programming, Springer Cham, https://doi.org/10.1007/978-3-030-20290-3 "
   ]
  },
  {
   "cell_type": "code",
   "execution_count": null,
   "id": "1ffdbccf",
   "metadata": {},
   "outputs": [],
   "source": []
  }
 ],
 "metadata": {
  "kernelspec": {
   "display_name": "Python 3",
   "language": "python",
   "name": "python3"
  },
  "language_info": {
   "codemirror_mode": {
    "name": "ipython",
    "version": 3
   },
   "file_extension": ".py",
   "mimetype": "text/x-python",
   "name": "python",
   "nbconvert_exporter": "python",
   "pygments_lexer": "ipython3",
   "version": "3.13.6"
  }
 },
 "nbformat": 4,
 "nbformat_minor": 5
}
