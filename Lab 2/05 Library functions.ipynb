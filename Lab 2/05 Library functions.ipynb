{
 "cells": [
  {
   "cell_type": "markdown",
   "metadata": {},
   "source": [
    "# Introduction\n",
    "\n",
    "A feature of modern programming languages is an extensive library of *standard functions*. This means that we can make use of well-tested and optimised functions for performing common tasks rather than writing our own. This makes our programs shorter and of higher quality, and in most cases faster.\n",
    "\n",
    "## Objectives\n",
    "\n",
    "- Introduce use of standard library functions\n",
    "- Importing and using modules\n",
    "- Introduction to namespaces\n",
    "- Print formatting of floats"
   ]
  },
  {
   "cell_type": "markdown",
   "metadata": {},
   "source": [
    "# The standard library\n",
    "\n",
    "You have already used some standard library types and functions. In previous activities we have used built-in standard library function `print` to display to the screen.\n",
    "\n",
    "Python has a large standard library. To organise it, most functionality is arranged into 'modules', with each module providing a range of related functions. Before you program a function, check if there is a library function that can perform the task. The Python standard library is documented at https://docs.python.org/3/library/.\n",
    "Search engines are a good way to find library functions, e.g. entering \"Is there a Python function to compute the hyperbolic tangent of a complex number\" into a search engine will take you to the function `cmath.tanh`. Try this link: http://bfy.tw/7aMc."
   ]
  },
  {
   "cell_type": "markdown",
   "metadata": {},
   "source": [
    "# Other libraries\n",
    "\n",
    "The standard library tools are general purpose and will be available in any Python environment.\n",
    "Specialised tools are usually made available in other libraries (modules). There is a huge range of Python libraries available for specialised problems. We have already used some parts\n",
    "of NumPy (http://www.numpy.org/), which is a specialised library for numerical computation.\n",
    "\n",
    "The simplest way to install a non-standard library is using the command `pip`. From the command line, the library NumPy is installed using:\n",
    "\n",
    "    pip install numpy\n",
    "    \n",
    "and from inside a Jupyter notebook use:\n",
    "\n",
    "    !pip install numpy\n",
    "\n",
    "NumPy is so commonly used. You will see `pip` being used in some later notebooks to install special-purpose modules.\n",
    "\n",
    "When developing programs outside of learning exercises,\n",
    "if there is a no standard library module for a problem you are trying to solve, \n",
    "search online for a module before implementing your own."
   ]
  },
  {
   "cell_type": "markdown",
   "metadata": {},
   "source": [
    "# Using library functions: `math` example\n",
    "\n",
    "To use a function from a module we need to make it available in our program. \n",
    "This is called 'importing'. The process is explained below.\n",
    "\n",
    "The `math` module (https://docs.python.org/3/library/math.html) provides a wide range of mathematical functions. For example, to compute the square root of a number, we do:"
   ]
  },
  {
   "cell_type": "code",
   "execution_count": 2,
   "metadata": {},
   "outputs": [
    {
     "name": "stdout",
     "output_type": "stream",
     "text": [
      "1.4142135623730951\n"
     ]
    }
   ],
   "source": [
    "import math\n",
    "\n",
    "x = 2.0\n",
    "x = math.sqrt(x)\n",
    "print(x)"
   ]
  },
  {
   "cell_type": "markdown",
   "metadata": {},
   "source": [
    "Dissecting the above code block, the line \n",
    "```python\n",
    "import math \n",
    "```\n",
    "makes the math module available in our program. It is good style to put all `import` statements at the top of a file (or at the top of a cell when using a Jupyter notebook). \n",
    "\n",
    "The function call\n",
    "```python\n",
    "x = math.sqrt(x)\n",
    "```    \n",
    "says 'use the `sqrt` function from the `math` module to compute the square root'.\n",
    "\n",
    "By prefixing `sqrt` with `math`, we are using a *namespace* (which in this case is `math`).\n",
    "This makes clear precisely which `sqrt` function we want to use - there could be more than one `sqrt` function available.\n",
    "\n",
    "> *Namespaces:* The prefix '`math`' indicates which '`sqrt`' function we want to use. This\n",
    "might seem pedantic, but in practice there are often different algorithms for performing the same or similar  operation. They might vary in speed and accuracy. In some applications we might need an accurate (but slow)  method for computing the square root, while for other applications we might need speed with a compromise on accuracy. But, if two functions have the same name and are not distinguished by a name space, we have a *name clash*.\n",
    "\n",
    "> In a large program, two developers might choose the same name for two functions that perform similar but slightly different tasks. If these functions are in different modules, there will be no name clash since the module name provides a 'namespace'  - a prefix that provides a distinction between the two functions. Namespaces are extremely helpful for multi-author programs. Older languages, like C and Fortran, might not support namespaces. Most modern languages do support namespaces.  \n",
    "\n",
    "We can import specific functions from a module, e.g. importing only the `sqrt` function:"
   ]
  },
  {
   "cell_type": "code",
   "execution_count": 13,
   "metadata": {},
   "outputs": [
    {
     "name": "stdout",
     "output_type": "stream",
     "text": [
      "1.4142135623730951\n"
     ]
    }
   ],
   "source": [
    "from math import sqrt\n",
    "\n",
    "x = 2.0\n",
    "x = sqrt(x)\n",
    "print(x)"
   ]
  },
  {
   "cell_type": "markdown",
   "metadata": {},
   "source": [
    "This way, we are importing (making available) only the `sqrt` function from the `math` module (the `math` module has a large number of functions).\n",
    "\n",
    "We can even choose to re-name functions that we import:"
   ]
  },
  {
   "cell_type": "code",
   "execution_count": 3,
   "metadata": {},
   "outputs": [
    {
     "name": "stdout",
     "output_type": "stream",
     "text": [
      "1.4142135623730951\n"
     ]
    }
   ],
   "source": [
    "from math import sqrt as some_math_function \n",
    "\n",
    "x = 2.0\n",
    "x = some_math_function(x)\n",
    "print(x)"
   ]
  },
  {
   "cell_type": "markdown",
   "metadata": {},
   "source": [
    "Renaming functions at import can be helpful to keep code short, and we will see below it can be useful for switching between different functions.\n",
    "However the above choice of name is very poor practice - the name '`some_math_function`' is not descriptive.\n",
    "Below is a more sensible example."
   ]
  },
  {
   "cell_type": "markdown",
   "metadata": {},
   "source": [
    "Say we program a function that computes the roots of a quadratic function using the quadratic formula:"
   ]
  },
  {
   "cell_type": "code",
   "execution_count": 4,
   "metadata": {},
   "outputs": [
    {
     "name": "stdout",
     "output_type": "stream",
     "text": [
      "-0.10435607626104004 -2.3956439237389597\n"
     ]
    }
   ],
   "source": [
    "from math import sqrt as square_root\n",
    "\n",
    "def compute_roots(a, b, c):\n",
    "    \"Compute roots of the polynomial f(x) = ax^2 + bx + c\"\n",
    "    root0 = (-b + square_root(b*b - 4*a*c))/(2*a)\n",
    "    root1 = (-b - square_root(b*b - 4*a*c))/(2*a)\n",
    "    return root0, root1\n",
    "\n",
    "# Compute roots of f = 4x^2 + 10x + 1\n",
    "root0, root1 = compute_roots(4, 10, 1)\n",
    "print(root0, root1)"
   ]
  },
  {
   "cell_type": "markdown",
   "metadata": {},
   "source": [
    "The above is fine as long as the polynomial has real roots. However, the function `math.sqrt` \n",
    "will give an error (technically, it will 'raise an exception') if a negative argument is passed to it. This is to stop naive mistakes.\n",
    "\n",
    "We do know about complex numbers, so we want to compute complex roots. The Python module `cmath` provides functions for complex numbers. If we were to use `cmath.sqrt` to compute the square root, our function would support complex roots. We do this by importing the `cmath.sqrt` functions as `square_root`:"
   ]
  },
  {
   "cell_type": "code",
   "execution_count": 16,
   "metadata": {},
   "outputs": [
    {
     "name": "stdout",
     "output_type": "stream",
     "text": [
      "(-0.125+0.09682458365518543j) (-0.125-0.09682458365518543j)\n",
      "(-0.10435607626104004+0j) (-2.3956439237389597+0j)\n"
     ]
    }
   ],
   "source": [
    "# Use the function from cmath as square_root to compute the square root\n",
    "# (this will replace the previously imported sqrt function)\n",
    "from cmath import sqrt as square_root\n",
    "\n",
    "# Compute roots (roots will be complex in this case)\n",
    "root0, root1 = compute_roots(40, 10, 1)\n",
    "print(root0, root1)\n",
    "\n",
    "# Compute roots (roots will be real in this case, but cmath.sqrt always returns a complex type)\n",
    "root0, root1 = compute_roots(4, 10, 1)\n",
    "print(root0, root1)"
   ]
  },
  {
   "cell_type": "markdown",
   "metadata": {},
   "source": [
    "The function now works for all cases because `square_root` is now using `cmath.sqrt`. Note that `cmath.sqrt` always returns a complex number type, even when the complex part is zero."
   ]
  },
  {
   "cell_type": "markdown",
   "metadata": {},
   "source": [
    "# String functions and string formatting\n",
    "\n",
    "A standard function that we have used from the start is '`print`'. This function turns arguments into a string and displays the string to the screen. So far, we have only printed simple variables and relied mostly on the default conversions to a string for printing to the screen (the exception was printing the floating point representation of 0.1, where we needed to specify the number of significant digits to see the inexact representation in binary)."
   ]
  },
  {
   "cell_type": "markdown",
   "metadata": {},
   "source": [
    "## Formatting\n",
    "\n",
    "We can control how strings are formatted and displayed. Below is an example of inserting a string variable and a number variable into a string of characters:"
   ]
  },
  {
   "cell_type": "code",
   "execution_count": 6,
   "metadata": {},
   "outputs": [
    {
     "name": "stdout",
     "output_type": "stream",
     "text": [
      "My name is Amber and I am 19 years old.\n",
      "My name is Ashley and I am 21 years old.\n"
     ]
    }
   ],
   "source": [
    "# Format a string with name and age\n",
    "name = \"Amber\"\n",
    "age = 19\n",
    "text_string = \"My name is {} and I am {} years old.\".format(name, age)\n",
    "\n",
    "# Print to screen \n",
    "print(text_string)\n",
    "\n",
    "# Short-cut for printing without assignment\n",
    "name = \"Ashley\"\n",
    "age = 21\n",
    "print(\"My name is {} and I am {} years old.\".format(name, age))"
   ]
  },
  {
   "cell_type": "markdown",
   "metadata": {},
   "source": [
    "For floating-point numbers we often want to control the formatting, and in particular the number of significant figures displayed. Using the display of $\\pi$ as an example: "
   ]
  },
  {
   "cell_type": "code",
   "execution_count": 18,
   "metadata": {},
   "outputs": [
    {
     "name": "stdout",
     "output_type": "stream",
     "text": [
      "The value of π using the default formatting is: 3.141592653589793\n",
      "The value of π to 5 significant figures is: 3.1416\n",
      "The value of π to 8 significant figures is: 3.1415927\n",
      "The value of π to 20 significant figures and using scientific notation is: 3.14159265358979311600e+00\n"
     ]
    }
   ],
   "source": [
    "# Import math module to get access to math.pi\n",
    "import math\n",
    "\n",
    "# Default formatting\n",
    "print(\"The value of π using the default formatting is: {}\".format(math.pi))\n",
    "\n",
    "# Control number of significant figures in formatting\n",
    "print(\"The value of π to 5 significant figures is: {:.5}\".format(math.pi))\n",
    "print(\"The value of π to 8 significant figures is: {:.8}\".format(math.pi))\n",
    "print(\"The value of π to 20 significant figures and using scientific notation is: {:.20e}\".format(math.pi))"
   ]
  },
  {
   "cell_type": "markdown",
   "metadata": {},
   "source": [
    "There are many more ways in which float formatting can be controlled - search online if you want to format a float in a particular way.  "
   ]
  },
  {
   "cell_type": "markdown",
   "metadata": {},
   "source": [
    "## Exercise (random numbers)\n",
    "\n",
    "- Using the '`randint`' function from the '`random`' module (https://docs.python.org/3/library/random.html#random.randint), \n",
    "  develop a function `dice_roll` that emulates the roll of a dice with $n$ sides.\n",
    "\n",
    "- For $n=6$, devise and implement a test to check that it is a fair dice."
   ]
  },
  {
   "cell_type": "markdown",
   "metadata": {},
   "source": [
    "#### (a) Dice roll code:"
   ]
  },
  {
   "cell_type": "code",
   "execution_count": 7,
   "metadata": {},
   "outputs": [],
   "source": [
    "import random\n",
    "\n",
    "# YOUR CODE HERE\n",
    "#raise NotImplementedError()\n",
    "def dice_roll(n):\n",
    "    return (random.randint(1,n))"
   ]
  },
  {
   "cell_type": "code",
   "execution_count": 8,
   "metadata": {},
   "outputs": [],
   "source": [
    "for n in range(1, 20):\n",
    "    for j in range(100):\n",
    "        value = dice_roll(n) \n",
    "        assert value >= 1 and value <= n"
   ]
  },
  {
   "cell_type": "markdown",
   "metadata": {},
   "source": [
    "#### (b) Test for fairness"
   ]
  },
  {
   "cell_type": "code",
   "execution_count": 9,
   "metadata": {},
   "outputs": [
    {
     "name": "stdout",
     "output_type": "stream",
     "text": [
      "1\n",
      "1\n",
      "2\n",
      "1\n",
      "2\n",
      "4\n"
     ]
    }
   ],
   "source": [
    "# YOUR CODE HERE\n",
    "#raise NotImplementedError()\n",
    "for n in range (1,7):\n",
    "    value = dice_roll(n)\n",
    "    print(value)"
   ]
  },
  {
   "cell_type": "markdown",
   "metadata": {},
   "source": [
    "## References\n",
    "\n",
    "- EH2745/FEN3251 Computer Applications in Power Systems presented by Lars Nordström at KTH. https://canvas.kth.se/courses/31133\n",
    "\n",
    "- John Hunt, 2019, A Beginners Guide to Python 3 Programming, Springer Cham, https://doi.org/10.1007/978-3-030-20290-3 "
   ]
  },
  {
   "cell_type": "code",
   "execution_count": null,
   "metadata": {},
   "outputs": [],
   "source": []
  }
 ],
 "metadata": {
  "kernelspec": {
   "display_name": "Python 3",
   "language": "python",
   "name": "python3"
  },
  "language_info": {
   "codemirror_mode": {
    "name": "ipython",
    "version": 3
   },
   "file_extension": ".py",
   "mimetype": "text/x-python",
   "name": "python",
   "nbconvert_exporter": "python",
   "pygments_lexer": "ipython3",
   "version": "3.13.6"
  }
 },
 "nbformat": 4,
 "nbformat_minor": 4
}
