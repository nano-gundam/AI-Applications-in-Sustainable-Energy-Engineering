{
 "cells": [
  {
   "cell_type": "code",
   "execution_count": 40,
   "id": "2d13a611-b5de-4fcb-9814-104b965fdcf6",
   "metadata": {},
   "outputs": [],
   "source": [
    "import numpy as np\n",
    "import math\n",
    "from datetime import datetime"
   ]
  },
  {
   "cell_type": "markdown",
   "metadata": {},
   "source": [
    "## Question 1\n",
    "\n",
    "### a) What time (clock) did the sun set that day? [h]"
   ]
  },
  {
   "cell_type": "code",
   "execution_count": 41,
   "id": "25570bf8-844b-4ab1-8c99-a08f64dbdbc5",
   "metadata": {},
   "outputs": [],
   "source": [
    "month = 10\n",
    "day = 15\n",
    "hour = 17\n",
    "minute = 6\n",
    "time_zone = 2\n",
    "tz_meridian = -15*time_zone\n",
    "latitude = -34\n",
    "longitude = -18"
   ]
  },
  {
   "cell_type": "code",
   "execution_count": 42,
   "metadata": {},
   "outputs": [
    {
     "name": "stdout",
     "output_type": "stream",
     "text": [
      "The day of the year is:  288\n"
     ]
    }
   ],
   "source": [
    "date = datetime(2025,month,day)\n",
    "day_of_year = int(date.strftime(\"%j\"))\n",
    "print(\"The day of the year is: \",day_of_year)"
   ]
  },
  {
   "cell_type": "code",
   "execution_count": 43,
   "metadata": {},
   "outputs": [
    {
     "name": "stdout",
     "output_type": "stream",
     "text": [
      "Declination angle =  -9.1026\n"
     ]
    }
   ],
   "source": [
    "n = day_of_year\n",
    "\n",
    "#Declination angle\n",
    "delta = np.arcsin(0.39795*np.cos(2*np.pi*(n-173)/365))\n",
    "print(\"Declination angle = \", round(np.rad2deg(delta), 4))"
   ]
  },
  {
   "cell_type": "code",
   "execution_count": 44,
   "metadata": {},
   "outputs": [
    {
     "name": "stdout",
     "output_type": "stream",
     "text": [
      "Solar time at sunset is  18.4136\n"
     ]
    }
   ],
   "source": [
    "phi = np.deg2rad(latitude)\n",
    "\n",
    "#Zenith angle at sunset\n",
    "theta_0 = np.deg2rad(90)\n",
    "\n",
    "cos_omega_0 = (np.cos(theta_0)-np.sin(phi)*np.sin(delta))/(np.cos(phi)*np.cos(delta))\n",
    "\n",
    "omega_0 = np.arccos(cos_omega_0)\n",
    "\n",
    "t_s0 = omega_0*12/np.pi+12\n",
    "\n",
    "print(\"Solar time at sunset is \", round(t_s0,4))\n"
   ]
  },
  {
   "cell_type": "code",
   "execution_count": 45,
   "metadata": {},
   "outputs": [
    {
     "name": "stdout",
     "output_type": "stream",
     "text": [
      "Solar clock at sunset is 18:24\n"
     ]
    }
   ],
   "source": [
    "# Convert to hours and minutes\n",
    "hours = int(t_s0)\n",
    "minutes = int((t_s0 - hours) * 60)\n",
    "\n",
    "print(f\"Solar clock at sunset is {hours}:{minutes}\")"
   ]
  },
  {
   "cell_type": "code",
   "execution_count": 46,
   "metadata": {},
   "outputs": [
    {
     "name": "stdout",
     "output_type": "stream",
     "text": [
      "14.6223\n"
     ]
    }
   ],
   "source": [
    "A = 0.258\n",
    "B = -7.416\n",
    "C = -3.648\n",
    "D = -9.228\n",
    "n = day_of_year\n",
    "\n",
    "\n",
    "t_EOT = A*np.cos(2*np.pi*(n-1)/365) + B*np.sin(2*np.pi*(n-1)/365) + C*np.cos(4*np.pi*(n-1)/365) + D*np.sin(4*np.pi*(n-1)/365)\n",
    "\n",
    "print(round(t_EOT,4))"
   ]
  },
  {
   "cell_type": "code",
   "execution_count": 47,
   "metadata": {},
   "outputs": [
    {
     "name": "stdout",
     "output_type": "stream",
     "text": [
      "Local solar clock time at sunset is  18.9699\n"
     ]
    }
   ],
   "source": [
    "t_DST = 0\n",
    "\n",
    "t_clk = t_s0 - ((tz_meridian-longitude)/15 + t_EOT/60 + t_DST)\n",
    "\n",
    "print(\"Local solar clock time at sunset is \", round(t_clk,4))"
   ]
  },
  {
   "cell_type": "code",
   "execution_count": 48,
   "metadata": {},
   "outputs": [
    {
     "name": "stdout",
     "output_type": "stream",
     "text": [
      "Solar clock at sunset is 18:58\n"
     ]
    }
   ],
   "source": [
    "# Convert to hours and minutes\n",
    "hours_clk = int(t_clk)\n",
    "minutes_clk = int((t_clk - hours_clk) * 60)\n",
    "\n",
    "print(f\"Solar clock at sunset is {hours_clk}:{minutes_clk}\")"
   ]
  },
  {
   "cell_type": "markdown",
   "metadata": {},
   "source": [
    "### b) Which was the optimum surface azimuth angle to minimize the surface cosine effectiveness at that time (defined just after the figure) if the surface tilt angle is greater than 0 degrees? [°] (provide a value -180°<γc<180°)"
   ]
  },
  {
   "cell_type": "code",
   "execution_count": 49,
   "metadata": {},
   "outputs": [
    {
     "name": "stdout",
     "output_type": "stream",
     "text": [
      "Clock time is  17.1\n"
     ]
    }
   ],
   "source": [
    "clock_time = hour + minute/60\n",
    "\n",
    "print(\"Clock time is \",clock_time)"
   ]
  },
  {
   "cell_type": "code",
   "execution_count": 50,
   "metadata": {},
   "outputs": [
    {
     "name": "stdout",
     "output_type": "stream",
     "text": [
      "Solar time at 17:6 (h) = 16.5437\n"
     ]
    }
   ],
   "source": [
    "t_s = clock_time + (tz_meridian-longitude)/15 + t_EOT/60 + t_DST\n",
    "\n",
    "print(f\"Solar time at {hour}:{minute} (h) = {round(t_s,4)}\")"
   ]
  },
  {
   "cell_type": "code",
   "execution_count": 51,
   "metadata": {},
   "outputs": [
    {
     "name": "stdout",
     "output_type": "stream",
     "text": [
      "Hour angle at 17:6 (rad) =  1.1895\n"
     ]
    }
   ],
   "source": [
    "#Hour angle\n",
    "omega = np.pi*(t_s-12)/12\n",
    "print(f\"Hour angle at {hour}:{minute} (rad) = \", round(omega,4))"
   ]
  },
  {
   "cell_type": "code",
   "execution_count": 52,
   "metadata": {},
   "outputs": [
    {
     "name": "stdout",
     "output_type": "stream",
     "text": [
      "Zenith angle (rad) =  1.1668\n",
      "Azimuth angle (rad) =  1.6517\n",
      "Elevation angle (º) =  23.1447\n"
     ]
    }
   ],
   "source": [
    "\n",
    "#Zenith angle\n",
    "theta_z = np.arccos(np.cos(phi)*np.cos(delta)*np.cos(omega)+np.sin(phi)*np.sin(delta))\n",
    "print(\"Zenith angle (rad) = \" , round(theta_z,4))\n",
    "\n",
    "#Azimuth angle\n",
    "gamma_s = np.sign(omega)*np.abs(np.arccos((np.cos(theta_z)*np.sin(phi)-np.sin(delta))/(np.cos(phi)*np.sin(theta_z))))\n",
    "print(\"Azimuth angle (rad) = \", round(gamma_s,4))\n",
    "\n",
    "#Elevation angle\n",
    "theta_s = 90-np.rad2deg(theta_z)\n",
    "print(\"Elevation angle (º) = \", round(theta_s,4))  \n",
    "  "
   ]
  },
  {
   "cell_type": "code",
   "execution_count": 53,
   "metadata": {},
   "outputs": [
    {
     "name": "stdout",
     "output_type": "stream",
     "text": [
      "Minimum value: 0.2274\n",
      "At surface azimuth angle = -85.3657º\n",
      "Success: True\n"
     ]
    }
   ],
   "source": [
    "#Slope angle\n",
    "beta_c = np.deg2rad(10)\n",
    "\n",
    "from scipy.optimize import minimize_scalar\n",
    "\n",
    "def incidence(x):\n",
    "    return np.cos(beta_c)*np.cos(theta_z) + np.sin(beta_c)*np.sin(theta_z)*np.cos(gamma_s-x)\n",
    "\n",
    "# Minimize the function\n",
    "result = minimize_scalar(incidence)\n",
    "print(f\"Minimum value: {round(result.fun,4)}\")\n",
    "print(f\"At surface azimuth angle = {round(np.rad2deg(result.x),4)}º\")\n",
    "print(f\"Success: {result.success}\")\n",
    "\n",
    "gamma_c = result.x"
   ]
  },
  {
   "cell_type": "code",
   "execution_count": 54,
   "metadata": {},
   "outputs": [
    {
     "data": {
      "image/png": "[encoded data removed]",
      "text/plain": [
       "<Figure size 640x480 with 1 Axes>"
      ]
     },
     "metadata": {},
     "output_type": "display_data"
    }
   ],
   "source": [
    "import matplotlib\n",
    "import matplotlib.pyplot as plt\n",
    "\n",
    "x = np.linspace(-np.pi, np.pi, num=300)\n",
    "\n",
    "# Plot sin(x) and cos(x), and add label for each\n",
    "plt.plot(x, np.cos(gamma_s-x), label=\"Cosine (gamma_s - gamma_c)\")\n",
    "plt.plot(x, incidence(x), label=\"Cosine efectiveness\")\n",
    "\n",
    "# Label the x-axis\n",
    "plt.xlabel('Angle (rad)')\n",
    "\n",
    "# Add legend\n",
    "plt.legend()\n",
    "\n",
    "# Use the start and end values in x as x limits\n",
    "plt.xlim(x[0], x[-1])\n",
    "\n",
    "plt.show()"
   ]
  },
  {
   "cell_type": "markdown",
   "metadata": {},
   "source": [
    "### c) How much was the cosine effectiveness if the surface found is tilted 10 degrees (surface tilt angle) for the calculated surface azimuth angle? [%]"
   ]
  },
  {
   "cell_type": "code",
   "execution_count": 64,
   "metadata": {},
   "outputs": [
    {
     "name": "stdout",
     "output_type": "stream",
     "text": [
      "The cosine effectiveness is 22.7412 %\n"
     ]
    }
   ],
   "source": [
    "#Cosine effectiveness\n",
    "\n",
    "beta_c = np.deg2rad(10)\n",
    "\n",
    "theta = np.arccos(np.cos(beta_c)*np.cos(theta_z) + np.sin(beta_c)*np.sin(theta_z)*np.cos(gamma_s-gamma_c))\n",
    "\n",
    "eta = np.cos(theta)\n",
    "\n",
    "print(\"The cosine effectiveness is\", round(eta*100, 4), \"%\")"
   ]
  },
  {
   "cell_type": "markdown",
   "metadata": {},
   "source": [
    "### d) How much was the incident radiation on the bodies if the beam radiation was 700W/m2 and the diffuse radiation 250W/m2? [W/m2]"
   ]
  },
  {
   "cell_type": "code",
   "execution_count": 67,
   "metadata": {},
   "outputs": [
    {
     "name": "stdout",
     "output_type": "stream",
     "text": [
      "Beam incident irradiation = 275.1387 W/m2\n",
      "Global incident irradiation = 525.1387 W/m2\n"
     ]
    }
   ],
   "source": [
    "I_b = 700\n",
    "I_d = 250\n",
    "\n",
    "I_bc = I_b*np.cos(theta_z)\n",
    "\n",
    "I_global = I_bc+I_d\n",
    "\n",
    "print(f\"Beam incident irradiation = {round(I_bc, 4)} W/m2\")\n",
    "print(f\"Global incident irradiation = {round(I_global,4)} W/m2\")"
   ]
  }
 ],
 "metadata": {
  "kernelspec": {
   "display_name": "AI_course-env",
   "language": "python",
   "name": "python3"
  },
  "language_info": {
   "codemirror_mode": {
    "name": "ipython",
    "version": 3
   },
   "file_extension": ".py",
   "mimetype": "text/x-python",
   "name": "python",
   "nbconvert_exporter": "python",
   "pygments_lexer": "ipython3",
   "version": "3.10.18"
  }
 },
 "nbformat": 4,
 "nbformat_minor": 2
}
