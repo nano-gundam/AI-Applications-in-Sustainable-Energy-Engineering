{
 "cells": [
  {
   "cell_type": "code",
   "execution_count": 2,
   "id": "2d13a611-b5de-4fcb-9814-104b965fdcf6",
   "metadata": {},
   "outputs": [],
   "source": [
    "import numpy as np\n",
    "import math\n",
    "from datetime import datetime"
   ]
  },
  {
   "cell_type": "markdown",
   "metadata": {},
   "source": [
    "## Question 1\n",
    "\n",
    "### a) What time (clock) did the sun set that day? [h]"
   ]
  },
  {
   "cell_type": "code",
   "execution_count": 3,
   "id": "25570bf8-844b-4ab1-8c99-a08f64dbdbc5",
   "metadata": {},
   "outputs": [],
   "source": [
    "month = 10\n",
    "day = 15\n",
    "hour = 17\n",
    "minute = 6\n",
    "time_zone = 2\n",
    "tz_meridian = -15*time_zone\n",
    "latitude = -(34 +21/60 + 24/3600)\n",
    "longitude = -(18 + 29/60 + 51/3600)"
   ]
  },
  {
   "cell_type": "code",
   "execution_count": 4,
   "metadata": {},
   "outputs": [
    {
     "name": "stdout",
     "output_type": "stream",
     "text": [
      "The day of the year is:  288\n"
     ]
    }
   ],
   "source": [
    "date = datetime(2025,month,day)\n",
    "day_of_year = int(date.strftime(\"%j\"))\n",
    "print(\"The day of the year is: \",day_of_year)"
   ]
  },
  {
   "cell_type": "code",
   "execution_count": 5,
   "metadata": {},
   "outputs": [
    {
     "name": "stdout",
     "output_type": "stream",
     "text": [
      "Declination angle =  -9.1026\n"
     ]
    }
   ],
   "source": [
    "n = day_of_year\n",
    "\n",
    "#Declination angle\n",
    "delta = np.arcsin(0.39795*np.cos(2*np.pi*(n-173)/365))\n",
    "print(\"Declination angle = \", round(np.rad2deg(delta), 4))"
   ]
  },
  {
   "cell_type": "code",
   "execution_count": 6,
   "metadata": {},
   "outputs": [
    {
     "name": "stdout",
     "output_type": "stream",
     "text": [
      "Hour angle at sunset is  1.6805\n",
      "Solar time at sunset is  18.4192\n"
     ]
    }
   ],
   "source": [
    "phi = np.deg2rad(latitude)\n",
    "\n",
    "#Zenith angle at sunset\n",
    "theta_0 = np.deg2rad(90)\n",
    "\n",
    "cos_omega_0 = (np.cos(theta_0)-np.sin(phi)*np.sin(delta))/(np.cos(phi)*np.cos(delta))\n",
    "\n",
    "omega_0 = np.arccos(cos_omega_0)\n",
    "\n",
    "t_s0 = omega_0*12/np.pi+12\n",
    "\n",
    "print(\"Hour angle at sunset is \", round(omega_0,4))\n",
    "print(\"Solar time at sunset is \", round(t_s0,4))\n"
   ]
  },
  {
   "cell_type": "code",
   "execution_count": 7,
   "metadata": {},
   "outputs": [
    {
     "name": "stdout",
     "output_type": "stream",
     "text": [
      "Solar clock at sunset is 18:25\n"
     ]
    }
   ],
   "source": [
    "# Convert to hours and minutes\n",
    "hours = int(t_s0)\n",
    "minutes = int((t_s0 - hours) * 60)\n",
    "\n",
    "print(f\"Solar clock at sunset is {hours}:{minutes}\")"
   ]
  },
  {
   "cell_type": "code",
   "execution_count": 8,
   "metadata": {},
   "outputs": [
    {
     "name": "stdout",
     "output_type": "stream",
     "text": [
      "14.6223\n"
     ]
    }
   ],
   "source": [
    "A = 0.258\n",
    "B = -7.416\n",
    "C = -3.648\n",
    "D = -9.228\n",
    "n = day_of_year\n",
    "\n",
    "\n",
    "t_EOT = A*np.cos(2*np.pi*(n-1)/365) + B*np.sin(2*np.pi*(n-1)/365) + C*np.cos(4*np.pi*(n-1)/365) + D*np.sin(4*np.pi*(n-1)/365)\n",
    "\n",
    "print(round(t_EOT,4))"
   ]
  },
  {
   "cell_type": "code",
   "execution_count": 9,
   "metadata": {},
   "outputs": [
    {
     "name": "stdout",
     "output_type": "stream",
     "text": [
      "Local solar clock at sunset is  18.9423\n",
      "-0.7668333333333331\n"
     ]
    }
   ],
   "source": [
    "t_DST = 0\n",
    "\n",
    "t_clk = t_s0 - ((tz_meridian-longitude)/15 + t_EOT/60 + t_DST)\n",
    "\n",
    "print(\"Local solar clock at sunset is \", round(t_clk,4))\n",
    "print((tz_meridian-longitude)/15)"
   ]
  },
  {
   "cell_type": "code",
   "execution_count": 10,
   "metadata": {},
   "outputs": [
    {
     "name": "stdout",
     "output_type": "stream",
     "text": [
      "Local solar clock at sunset is 18:56\n"
     ]
    }
   ],
   "source": [
    "# Convert to hours and minutes\n",
    "hours_clk = int(t_clk)\n",
    "minutes_clk = int((t_clk - hours_clk) * 60)\n",
    "\n",
    "print(f\"Local solar clock at sunset is {hours_clk}:{minutes_clk}\")"
   ]
  },
  {
   "cell_type": "markdown",
   "metadata": {},
   "source": [
    "### b) Which was the optimum surface azimuth angle to minimize the surface cosine effectiveness at that time (defined just after the figure) if the surface tilt angle is greater than 0 degrees? [°] (provide a value -180°<γc<180°)"
   ]
  },
  {
   "cell_type": "code",
   "execution_count": 11,
   "metadata": {},
   "outputs": [
    {
     "name": "stdout",
     "output_type": "stream",
     "text": [
      "Clock time is  17.1\n"
     ]
    }
   ],
   "source": [
    "clock_time = hour + minute/60\n",
    "\n",
    "print(\"Clock time is \",clock_time)"
   ]
  },
  {
   "cell_type": "code",
   "execution_count": 12,
   "metadata": {},
   "outputs": [
    {
     "name": "stdout",
     "output_type": "stream",
     "text": [
      "Solar time at 17:6 (h) = 16.5769\n"
     ]
    }
   ],
   "source": [
    "t_s = clock_time + (tz_meridian-longitude)/15 + t_EOT/60 + t_DST\n",
    "\n",
    "print(f\"Solar time at {hour}:{minute} (h) = {round(t_s,4)}\")"
   ]
  },
  {
   "cell_type": "code",
   "execution_count": 13,
   "metadata": {},
   "outputs": [
    {
     "name": "stdout",
     "output_type": "stream",
     "text": [
      "Hour angle at 17:6 (rad) =  1.1982\n"
     ]
    }
   ],
   "source": [
    "#Hour angle\n",
    "omega = np.pi*(t_s-12)/12\n",
    "print(f\"Hour angle at {hour}:{minute} (rad) = \", round(omega,4))"
   ]
  },
  {
   "cell_type": "code",
   "execution_count": 14,
   "metadata": {},
   "outputs": [
    {
     "name": "stdout",
     "output_type": "stream",
     "text": [
      "Zenith angle (rad) =  1.1745\n",
      "Azimuth angle (rad) =  1.6492\n",
      "Elevation angle (º) =  22.7061\n"
     ]
    }
   ],
   "source": [
    "\n",
    "#Zenith angle\n",
    "theta_z = np.arccos(np.cos(phi)*np.cos(delta)*np.cos(omega)+np.sin(phi)*np.sin(delta))\n",
    "print(\"Zenith angle (rad) = \" , round(theta_z,4))\n",
    "\n",
    "#Azimuth angle\n",
    "gamma_s = np.sign(omega)*np.abs(np.arccos((np.cos(theta_z)*np.sin(phi)-np.sin(delta))/(np.cos(phi)*np.sin(theta_z))))\n",
    "print(\"Azimuth angle (rad) = \", round(gamma_s,4))\n",
    "\n",
    "#Elevation angle\n",
    "theta_s = 90-np.rad2deg(theta_z)\n",
    "print(\"Elevation angle (º) = \", round(theta_s,4))  \n",
    "  "
   ]
  },
  {
   "cell_type": "code",
   "execution_count": 15,
   "metadata": {},
   "outputs": [
    {
     "name": "stdout",
     "output_type": "stream",
     "text": [
      "Minimum value: -1.0\n",
      "At surface azimuth angle = -85.5087º\n",
      "Success: True\n"
     ]
    }
   ],
   "source": [
    "#Slope angle\n",
    "beta_c = np.deg2rad(10)\n",
    "\n",
    "from scipy.optimize import minimize_scalar\n",
    "\n",
    "# def incidence(x):\n",
    "#     return np.cos(beta_c)*np.cos(theta_z) + np.sin(beta_c)*np.sin(theta_z)*np.cos(gamma_s-x)\n",
    "\n",
    "def cosine(x):\n",
    "    return np.cos(gamma_s-x)\n",
    "\n",
    "# Minimize the function\n",
    "result = minimize_scalar(cosine)\n",
    "print(f\"Minimum value: {round(result.fun,4)}\")\n",
    "print(f\"At surface azimuth angle = {round(np.rad2deg(result.x),4)}º\")\n",
    "print(f\"Success: {result.success}\")\n",
    "\n",
    "gamma_c = result.x"
   ]
  },
  {
   "cell_type": "code",
   "execution_count": 16,
   "metadata": {},
   "outputs": [
    {
     "data": {
      "image/png": "[encoded data removed]",
      "text/plain": [
       "<Figure size 640x480 with 1 Axes>"
      ]
     },
     "metadata": {},
     "output_type": "display_data"
    }
   ],
   "source": [
    "import matplotlib\n",
    "import matplotlib.pyplot as plt\n",
    "\n",
    "x = np.linspace(-np.pi, np.pi, num=300)\n",
    "\n",
    "# Plot sin(x) and cos(x), and add label for each\n",
    "plt.plot(x, np.cos(gamma_s-x), label=\"Cosine (gamma_s - gamma_c)\")\n",
    "plt.plot(x, cosine(x), label=\"Cosine efectiveness\")\n",
    "\n",
    "# Label the x-axis\n",
    "plt.xlabel('Angle (rad)')\n",
    "\n",
    "# Add legend\n",
    "plt.legend()\n",
    "\n",
    "# Use the start and end values in x as x limits\n",
    "plt.xlim(x[0], x[-1])\n",
    "\n",
    "plt.show()"
   ]
  },
  {
   "cell_type": "markdown",
   "metadata": {},
   "source": [
    "### c) How much was the cosine effectiveness if the surface found is tilted 10 degrees (surface tilt angle) for the calculated surface azimuth angle? [%]"
   ]
  },
  {
   "cell_type": "code",
   "execution_count": 17,
   "metadata": {},
   "outputs": [
    {
     "name": "stdout",
     "output_type": "stream",
     "text": [
      "The incidence angle is 77.2939 º\n",
      "The cosine effectiveness is 21.995 %\n"
     ]
    }
   ],
   "source": [
    "#Cosine effectiveness\n",
    "\n",
    "beta_c = np.deg2rad(10)\n",
    "\n",
    "theta = np.arccos(np.cos(beta_c)*np.cos(theta_z) + np.sin(beta_c)*np.sin(theta_z)*np.cos(gamma_s-gamma_c))\n",
    "\n",
    "eta = np.cos(theta)\n",
    "\n",
    "print(\"The incidence angle is\", round(np.rad2deg(theta), 4), \"º\")\n",
    "print(\"The cosine effectiveness is\", round(eta*100, 4), \"%\")"
   ]
  },
  {
   "cell_type": "markdown",
   "metadata": {},
   "source": [
    "### d) How much was the incident radiation on the bodies if the beam radiation was 700W/m2 and the diffuse radiation 250W/m2? [W/m2]"
   ]
  },
  {
   "cell_type": "code",
   "execution_count": 18,
   "metadata": {},
   "outputs": [
    {
     "name": "stdout",
     "output_type": "stream",
     "text": [
      "Beam incident irradiation = 153.965 W/m2\n",
      "Global incident irradiation = 403.965 W/m2\n"
     ]
    }
   ],
   "source": [
    "I_b = 700\n",
    "I_d = 250\n",
    "\n",
    "I_bc = I_b*np.cos(theta)\n",
    "\n",
    "I_global = I_bc+I_d\n",
    "\n",
    "print(f\"Beam incident irradiation = {round(I_bc, 4)} W/m2\")\n",
    "print(f\"Global incident irradiation = {round(I_global,4)} W/m2\")"
   ]
  },
  {
   "cell_type": "markdown",
   "metadata": {},
   "source": [
    "## Question 2\n",
    "\n",
    "A thermosyphon with a flat plate collector is operated to heat up the M building at KTH. After reaching steady state conditions, it works with the following properties:\n",
    " \n",
    "\n",
    "$\\tau^*_G$= 0.9 (Glass transmissivity)\n",
    "\n",
    "$\\alpha^*_A$= 0.95 (Absorber absortivity)\n",
    "\n",
    "$\\dot{m}$= 0.1 kg/s (Mass flow)\n",
    "\n",
    "$F^{'}$= 0.95 (Correction efficiency factor)\n",
    "\n",
    "$(UA)T$= 160 W/K (Total losses heat transfer coefficient)\n",
    "\n",
    "$T_{amb}$= 15°C (Ambient temperature)\n",
    "\n",
    "$A$ = 50m2 (Collector area)\n",
    "\n",
    "$T_{water,inlet}$= 25°C (Inlet water temperature)\n",
    "\n",
    "$I_{beam}$= 573.4  W/m2 (Beam radiation)\n",
    "\n",
    "$I_{diffuse}$= 100 W/m2 (Diffuse radiation)\n",
    "\n",
    "$\\theta$ = 30° (Surface incident angle)\n",
    "\n",
    "$c_P$= 4.18 kJ/kgK (Specific heat capacity of water)\n",
    "\n",
    " \n",
    "\n",
    " Assume the thermal losses of the collector are proportional to the difference between the ambient temperature and the mean fluid temperature."
   ]
  },
  {
   "cell_type": "markdown",
   "metadata": {},
   "source": [
    "### a) What is the expected collector efficiency of the thermosyphon? [%]"
   ]
  },
  {
   "cell_type": "code",
   "execution_count": 28,
   "metadata": {},
   "outputs": [
    {
     "name": "stdout",
     "output_type": "stream",
     "text": [
      "Ambient temperature = 288.15 K\n",
      "Inlet temperature = 298.15 K\n",
      "Specific heat of water = 4180.0 J/kgK\n"
     ]
    }
   ],
   "source": [
    "#Variables\n",
    "\n",
    "F = 0.95\n",
    "A = 50 # m2\n",
    "t_g = 0.9\n",
    "a_g = 0.95\n",
    "UA = 160 #W/K\n",
    "T_amb = 15 + 273.15 #K\n",
    "m_dot = 0.1 #kg/s\n",
    "c_p = 4.18*1000 #J/kgK\n",
    "T_in = 25 + 273.15 #K\n",
    "I_b = 573.4 #W/m2\n",
    "I_d = 100 #W/m2\n",
    "theta = np.deg2rad(30)\n",
    "\n",
    "print(f\"Ambient temperature = {round(T_amb,4)} K\")\n",
    "print(f\"Inlet temperature = {round(T_in,4)} K\")\n",
    "print(f\"Specific heat of water = {round(c_p,4)} J/kgK\")\n"
   ]
  },
  {
   "cell_type": "code",
   "execution_count": 23,
   "metadata": {},
   "outputs": [
    {
     "name": "stdout",
     "output_type": "stream",
     "text": [
      "Global irradiance = 596.579 W/m2\n"
     ]
    }
   ],
   "source": [
    "#Global irradiance\n",
    "\n",
    "I_g = I_b*np.cos(theta)+I_d\n",
    "print(f\"Global irradiance = {round(I_g,4)} W/m2\")"
   ]
  },
  {
   "cell_type": "code",
   "execution_count": 31,
   "metadata": {},
   "outputs": [
    {
     "name": "stdout",
     "output_type": "stream",
     "text": [
      "Outlet temperature = 344.1188 K\n",
      "Outlet temperature = 70.9688 ºC\n"
     ]
    }
   ],
   "source": [
    "#Outlet temperature. Formula in paper\n",
    "\n",
    "T_out = (2*F*(I_g*A*t_g*a_g + UA*T_amb) - T_in*(F*UA - 2*m_dot*c_p))/(2*m_dot*c_p + F*UA)\n",
    "\n",
    "print(f\"Outlet temperature = {round(T_out,4)} K\")\n",
    "print(f\"Outlet temperature = {round(T_out-273.15,4)} ºC\")"
   ]
  },
  {
   "cell_type": "code",
   "execution_count": 32,
   "metadata": {},
   "outputs": [
    {
     "name": "stdout",
     "output_type": "stream",
     "text": [
      "Mean fluid temperature = 321.1344 K\n"
     ]
    }
   ],
   "source": [
    "#Mean fluid temperature\n",
    "\n",
    "T_flm = (T_out + T_in)/2\n",
    "print(f\"Mean fluid temperature = {round(T_flm,4)} K\")"
   ]
  },
  {
   "cell_type": "code",
   "execution_count": 33,
   "metadata": {},
   "outputs": [
    {
     "name": "stdout",
     "output_type": "stream",
     "text": [
      "Efficiency = 64.4171 %\n"
     ]
    }
   ],
   "source": [
    "#Efficiency\n",
    "\n",
    "eta = F*(t_g*a_g - (UA*(T_flm - T_amb))/(A*I_g))\n",
    "\n",
    "print(f\"Efficiency = {round(eta*100,4)} %\")"
   ]
  },
  {
   "cell_type": "code",
   "execution_count": 36,
   "metadata": {},
   "outputs": [
    {
     "name": "stdout",
     "output_type": "stream",
     "text": [
      "Heat used = 19.2149 kW\n"
     ]
    }
   ],
   "source": [
    "Q_use = m_dot*c_p*(T_out-T_in)\n",
    "\n",
    "print(f\"Heat used = {round(Q_use/1000,4)} kW\")"
   ]
  },
  {
   "cell_type": "markdown",
   "metadata": {},
   "source": [
    "### b) How much is the total heat (power) supplied by the collector to the building? [kW]"
   ]
  },
  {
   "cell_type": "code",
   "execution_count": null,
   "metadata": {},
   "outputs": [],
   "source": []
  },
  {
   "cell_type": "markdown",
   "metadata": {},
   "source": [
    "## Question 3 \n",
    "\n",
    "A crystalline silicon PV module has 31 cells connected in series. Each cell is square with sides 150 mm, and rated at 15% maximum efficiency. \n",
    "\n",
    "Estimate the Pmpp at cell level (a.) and the open-circuit voltage (b.) of the module at STC if Isc = 300 A/m2 (at STC), and the cells have a rectangular V-I curve."
   ]
  },
  {
   "cell_type": "code",
   "execution_count": 1,
   "metadata": {},
   "outputs": [
    {
     "name": "stdout",
     "output_type": "stream",
     "text": [
      "Maximum power point Power = 3.375 W\n"
     ]
    }
   ],
   "source": [
    "n_cells = 31\n",
    "eta_mpp = 0.15\n",
    "A_cell = (150/1000)**2 #m2\n",
    "G_STC = 1000 #W/m2\n",
    "\n",
    "P_mpp = eta_mpp*A_cell*G_STC\n",
    "\n",
    "print(f\"Maximum power point Power = {round(P_mpp,4)} W\")"
   ]
  },
  {
   "cell_type": "code",
   "execution_count": 4,
   "metadata": {},
   "outputs": [
    {
     "name": "stdout",
     "output_type": "stream",
     "text": [
      "Open circuit voltage = 15.5 V\n"
     ]
    }
   ],
   "source": [
    "I_SC = 300*A_cell #A\n",
    "\n",
    "V_oc = n_cells*P_mpp/I_SC\n",
    "\n",
    "print(f\"Open circuit voltage = {round(V_oc,4)} V\")"
   ]
  }
 ],
 "metadata": {
  "kernelspec": {
   "display_name": "AI_course-env",
   "language": "python",
   "name": "python3"
  },
  "language_info": {
   "codemirror_mode": {
    "name": "ipython",
    "version": 3
   },
   "file_extension": ".py",
   "mimetype": "text/x-python",
   "name": "python",
   "nbconvert_exporter": "python",
   "pygments_lexer": "ipython3",
   "version": "3.10.18"
  }
 },
 "nbformat": 4,
 "nbformat_minor": 2
}
